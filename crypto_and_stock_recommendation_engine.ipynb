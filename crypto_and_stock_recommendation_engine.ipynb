{
 "cells": [
  {
   "cell_type": "code",
   "execution_count": 1,
   "id": "1a532efd",
   "metadata": {},
   "outputs": [],
   "source": [
    "#DOCUMENTATION\n",
    "#SCRAP DATA\n",
    "#LOAD DATASETS\n",
    "#GATHER QUESTIONS TO WHICH WE NEED ANSWERS\n",
    "#EDA\n",
    "#MAKE VISUALIZATIONS ON POWER BI\n",
    "#MAKE ML MODEL\n",
    "#PUBLISH"
   ]
  },
  {
   "cell_type": "code",
   "execution_count": 4,
   "id": "3b57d0e8",
   "metadata": {},
   "outputs": [],
   "source": [
    "#Q1 Most top rated crypto\n",
    "#Q2 falls latest date\n",
    "#Q3 latest rises\n",
    "#Q4 find consistency based on day\n",
    "#Q5 find consistency based on week\n",
    "#Q6 find consistency based on month\n",
    "#Q6 highest rise of the day\n",
    "#Q7 highest falls of the day\n"
   ]
  },
  {
   "cell_type": "code",
   "execution_count": 2,
   "id": "9bd8cd7a",
   "metadata": {},
   "outputs": [],
   "source": [
    "import pandas as pd\n",
    "import numpy as np \n",
    "import matplotlib.pyplot as plt\n",
    "import seaborn as sns\n",
    "import plotly.express as px\n",
    "import warnings\n",
    "warnings.filterwarnings(\"ignore\")"
   ]
  },
  {
   "cell_type": "code",
   "execution_count": null,
   "id": "228bc481",
   "metadata": {},
   "outputs": [],
   "source": []
  }
 ],
 "metadata": {
  "kernelspec": {
   "display_name": "Python 3",
   "language": "python",
   "name": "python3"
  },
  "language_info": {
   "codemirror_mode": {
    "name": "ipython",
    "version": 3
   },
   "file_extension": ".py",
   "mimetype": "text/x-python",
   "name": "python",
   "nbconvert_exporter": "python",
   "pygments_lexer": "ipython3",
   "version": "3.8.8"
  }
 },
 "nbformat": 4,
 "nbformat_minor": 5
}
