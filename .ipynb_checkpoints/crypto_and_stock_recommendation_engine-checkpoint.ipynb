{
 "cells": [
  {
   "cell_type": "code",
   "execution_count": 1,
   "id": "c706a68c",
   "metadata": {},
   "outputs": [],
   "source": [
    "#DOCUMENTATION\n",
    "#SCRAP DATA\n",
    "#LOAD DATASETS\n",
    "#GATHER QUESTIONS TO WHICH WE NEED ANSWERS\n",
    "#EDA\n",
    "#MAKE VISUALIZATIONS ON POWER BI\n",
    "#MAKE ML MODEL\n",
    "#PUBLISH"
   ]
  },
  {
   "cell_type": "code",
   "execution_count": 4,
   "id": "d38891d6",
   "metadata": {},
   "outputs": [],
   "source": [
    "#Q1 Most top rated crypto based on price (done)\n",
    "#Q2 most fell coin and in which year\n",
    "# plot its month data\n",
    "#Q3 most risen coin and in which year\n",
    "#Q4 find consistency of then most risen coin\n",
    "#Q5 find consistency in drop of most fallen coin\n",
    "#Q6 find consistency based on month\n",
    "#Q7 highest rise of the day\n",
    "#Q8 highest falls of the day\n",
    "#Q9 highest and lowest price of the top rated coin based on price\n",
    "#Q10 highest and lowest for bottom rasted coin\n",
    "#Q11 top coin based on rank (done)"
   ]
  },
  {
   "cell_type": "code",
   "execution_count": 2,
   "id": "0e327933",
   "metadata": {},
   "outputs": [],
   "source": [
    "import pandas as pd\n",
    "import numpy as np \n",
    "import matplotlib.pyplot as plt\n",
    "import seaborn as sns\n",
    "import plotly.express as px\n",
    "import warnings\n",
    "warnings.filterwarnings(\"ignore\")"
   ]
  },
  {
   "cell_type": "code",
   "execution_count": 5,
   "id": "220576ca",
   "metadata": {},
   "outputs": [],
   "source": [
    "crypto_raw_df = pd.read_csv('crypto-markets.csv')"
   ]
  },
  {
   "cell_type": "code",
   "execution_count": 6,
   "id": "01673dc4",
   "metadata": {},
   "outputs": [
    {
     "data": {
      "text/html": [
       "<div>\n",
       "<style scoped>\n",
       "    .dataframe tbody tr th:only-of-type {\n",
       "        vertical-align: middle;\n",
       "    }\n",
       "\n",
       "    .dataframe tbody tr th {\n",
       "        vertical-align: top;\n",
       "    }\n",
       "\n",
       "    .dataframe thead th {\n",
       "        text-align: right;\n",
       "    }\n",
       "</style>\n",
       "<table border=\"1\" class=\"dataframe\">\n",
       "  <thead>\n",
       "    <tr style=\"text-align: right;\">\n",
       "      <th></th>\n",
       "      <th>slug</th>\n",
       "      <th>symbol</th>\n",
       "      <th>name</th>\n",
       "      <th>date</th>\n",
       "      <th>ranknow</th>\n",
       "      <th>open</th>\n",
       "      <th>high</th>\n",
       "      <th>low</th>\n",
       "      <th>close</th>\n",
       "      <th>volume</th>\n",
       "      <th>market</th>\n",
       "      <th>close_ratio</th>\n",
       "      <th>spread</th>\n",
       "    </tr>\n",
       "  </thead>\n",
       "  <tbody>\n",
       "    <tr>\n",
       "      <th>0</th>\n",
       "      <td>bitcoin</td>\n",
       "      <td>BTC</td>\n",
       "      <td>Bitcoin</td>\n",
       "      <td>2013-04-28</td>\n",
       "      <td>1</td>\n",
       "      <td>135.30</td>\n",
       "      <td>135.98</td>\n",
       "      <td>132.10</td>\n",
       "      <td>134.21</td>\n",
       "      <td>0.0</td>\n",
       "      <td>1.488567e+09</td>\n",
       "      <td>0.5438</td>\n",
       "      <td>3.88</td>\n",
       "    </tr>\n",
       "    <tr>\n",
       "      <th>1</th>\n",
       "      <td>bitcoin</td>\n",
       "      <td>BTC</td>\n",
       "      <td>Bitcoin</td>\n",
       "      <td>2013-04-29</td>\n",
       "      <td>1</td>\n",
       "      <td>134.44</td>\n",
       "      <td>147.49</td>\n",
       "      <td>134.00</td>\n",
       "      <td>144.54</td>\n",
       "      <td>0.0</td>\n",
       "      <td>1.603769e+09</td>\n",
       "      <td>0.7813</td>\n",
       "      <td>13.49</td>\n",
       "    </tr>\n",
       "    <tr>\n",
       "      <th>2</th>\n",
       "      <td>bitcoin</td>\n",
       "      <td>BTC</td>\n",
       "      <td>Bitcoin</td>\n",
       "      <td>2013-04-30</td>\n",
       "      <td>1</td>\n",
       "      <td>144.00</td>\n",
       "      <td>146.93</td>\n",
       "      <td>134.05</td>\n",
       "      <td>139.00</td>\n",
       "      <td>0.0</td>\n",
       "      <td>1.542813e+09</td>\n",
       "      <td>0.3843</td>\n",
       "      <td>12.88</td>\n",
       "    </tr>\n",
       "    <tr>\n",
       "      <th>3</th>\n",
       "      <td>bitcoin</td>\n",
       "      <td>BTC</td>\n",
       "      <td>Bitcoin</td>\n",
       "      <td>2013-05-01</td>\n",
       "      <td>1</td>\n",
       "      <td>139.00</td>\n",
       "      <td>139.89</td>\n",
       "      <td>107.72</td>\n",
       "      <td>116.99</td>\n",
       "      <td>0.0</td>\n",
       "      <td>1.298955e+09</td>\n",
       "      <td>0.2882</td>\n",
       "      <td>32.17</td>\n",
       "    </tr>\n",
       "    <tr>\n",
       "      <th>4</th>\n",
       "      <td>bitcoin</td>\n",
       "      <td>BTC</td>\n",
       "      <td>Bitcoin</td>\n",
       "      <td>2013-05-02</td>\n",
       "      <td>1</td>\n",
       "      <td>116.38</td>\n",
       "      <td>125.60</td>\n",
       "      <td>92.28</td>\n",
       "      <td>105.21</td>\n",
       "      <td>0.0</td>\n",
       "      <td>1.168517e+09</td>\n",
       "      <td>0.3881</td>\n",
       "      <td>33.32</td>\n",
       "    </tr>\n",
       "  </tbody>\n",
       "</table>\n",
       "</div>"
      ],
      "text/plain": [
       "      slug symbol     name        date  ranknow    open    high     low  \\\n",
       "0  bitcoin    BTC  Bitcoin  2013-04-28        1  135.30  135.98  132.10   \n",
       "1  bitcoin    BTC  Bitcoin  2013-04-29        1  134.44  147.49  134.00   \n",
       "2  bitcoin    BTC  Bitcoin  2013-04-30        1  144.00  146.93  134.05   \n",
       "3  bitcoin    BTC  Bitcoin  2013-05-01        1  139.00  139.89  107.72   \n",
       "4  bitcoin    BTC  Bitcoin  2013-05-02        1  116.38  125.60   92.28   \n",
       "\n",
       "    close  volume        market  close_ratio  spread  \n",
       "0  134.21     0.0  1.488567e+09       0.5438    3.88  \n",
       "1  144.54     0.0  1.603769e+09       0.7813   13.49  \n",
       "2  139.00     0.0  1.542813e+09       0.3843   12.88  \n",
       "3  116.99     0.0  1.298955e+09       0.2882   32.17  \n",
       "4  105.21     0.0  1.168517e+09       0.3881   33.32  "
      ]
     },
     "execution_count": 6,
     "metadata": {},
     "output_type": "execute_result"
    }
   ],
   "source": [
    "crypto_raw_df.head()"
   ]
  },
  {
   "cell_type": "code",
   "execution_count": 7,
   "id": "d44a20e5",
   "metadata": {},
   "outputs": [
    {
     "data": {
      "text/plain": [
       "(942297, 13)"
      ]
     },
     "execution_count": 7,
     "metadata": {},
     "output_type": "execute_result"
    }
   ],
   "source": [
    "crypto_raw_df.shape"
   ]
  },
  {
   "cell_type": "code",
   "execution_count": 8,
   "id": "806ee9ad",
   "metadata": {},
   "outputs": [
    {
     "data": {
      "text/html": [
       "<div>\n",
       "<style scoped>\n",
       "    .dataframe tbody tr th:only-of-type {\n",
       "        vertical-align: middle;\n",
       "    }\n",
       "\n",
       "    .dataframe tbody tr th {\n",
       "        vertical-align: top;\n",
       "    }\n",
       "\n",
       "    .dataframe thead th {\n",
       "        text-align: right;\n",
       "    }\n",
       "</style>\n",
       "<table border=\"1\" class=\"dataframe\">\n",
       "  <thead>\n",
       "    <tr style=\"text-align: right;\">\n",
       "      <th></th>\n",
       "      <th>ranknow</th>\n",
       "      <th>open</th>\n",
       "      <th>high</th>\n",
       "      <th>low</th>\n",
       "      <th>close</th>\n",
       "      <th>volume</th>\n",
       "      <th>market</th>\n",
       "      <th>close_ratio</th>\n",
       "      <th>spread</th>\n",
       "    </tr>\n",
       "  </thead>\n",
       "  <tbody>\n",
       "    <tr>\n",
       "      <th>count</th>\n",
       "      <td>942297.000000</td>\n",
       "      <td>9.422970e+05</td>\n",
       "      <td>9.422970e+05</td>\n",
       "      <td>9.422970e+05</td>\n",
       "      <td>9.422970e+05</td>\n",
       "      <td>9.422970e+05</td>\n",
       "      <td>9.422970e+05</td>\n",
       "      <td>942297.000000</td>\n",
       "      <td>9.422970e+05</td>\n",
       "    </tr>\n",
       "    <tr>\n",
       "      <th>mean</th>\n",
       "      <td>1000.170608</td>\n",
       "      <td>3.483522e+02</td>\n",
       "      <td>4.085930e+02</td>\n",
       "      <td>2.962526e+02</td>\n",
       "      <td>3.461018e+02</td>\n",
       "      <td>8.720383e+06</td>\n",
       "      <td>1.725060e+08</td>\n",
       "      <td>0.459499</td>\n",
       "      <td>1.123400e+02</td>\n",
       "    </tr>\n",
       "    <tr>\n",
       "      <th>std</th>\n",
       "      <td>587.575283</td>\n",
       "      <td>1.318436e+04</td>\n",
       "      <td>1.616386e+04</td>\n",
       "      <td>1.092931e+04</td>\n",
       "      <td>1.309822e+04</td>\n",
       "      <td>1.839802e+08</td>\n",
       "      <td>3.575590e+09</td>\n",
       "      <td>0.326160</td>\n",
       "      <td>6.783713e+03</td>\n",
       "    </tr>\n",
       "    <tr>\n",
       "      <th>min</th>\n",
       "      <td>1.000000</td>\n",
       "      <td>2.500000e-09</td>\n",
       "      <td>3.200000e-09</td>\n",
       "      <td>2.500000e-10</td>\n",
       "      <td>2.000000e-10</td>\n",
       "      <td>0.000000e+00</td>\n",
       "      <td>0.000000e+00</td>\n",
       "      <td>-1.000000</td>\n",
       "      <td>0.000000e+00</td>\n",
       "    </tr>\n",
       "    <tr>\n",
       "      <th>25%</th>\n",
       "      <td>465.000000</td>\n",
       "      <td>2.321000e-03</td>\n",
       "      <td>2.628000e-03</td>\n",
       "      <td>2.044000e-03</td>\n",
       "      <td>2.314000e-03</td>\n",
       "      <td>1.750000e+02</td>\n",
       "      <td>2.958100e+04</td>\n",
       "      <td>0.162900</td>\n",
       "      <td>0.000000e+00</td>\n",
       "    </tr>\n",
       "    <tr>\n",
       "      <th>50%</th>\n",
       "      <td>1072.000000</td>\n",
       "      <td>2.398300e-02</td>\n",
       "      <td>2.680200e-02</td>\n",
       "      <td>2.143700e-02</td>\n",
       "      <td>2.389200e-02</td>\n",
       "      <td>4.278000e+03</td>\n",
       "      <td>5.227960e+05</td>\n",
       "      <td>0.432400</td>\n",
       "      <td>0.000000e+00</td>\n",
       "    </tr>\n",
       "    <tr>\n",
       "      <th>75%</th>\n",
       "      <td>1484.000000</td>\n",
       "      <td>2.268600e-01</td>\n",
       "      <td>2.508940e-01</td>\n",
       "      <td>2.043910e-01</td>\n",
       "      <td>2.259340e-01</td>\n",
       "      <td>1.190900e+05</td>\n",
       "      <td>6.874647e+06</td>\n",
       "      <td>0.745800</td>\n",
       "      <td>3.000000e-02</td>\n",
       "    </tr>\n",
       "    <tr>\n",
       "      <th>max</th>\n",
       "      <td>2072.000000</td>\n",
       "      <td>2.298390e+06</td>\n",
       "      <td>2.926100e+06</td>\n",
       "      <td>2.030590e+06</td>\n",
       "      <td>2.300740e+06</td>\n",
       "      <td>2.384090e+10</td>\n",
       "      <td>3.265025e+11</td>\n",
       "      <td>1.000000</td>\n",
       "      <td>1.770563e+06</td>\n",
       "    </tr>\n",
       "  </tbody>\n",
       "</table>\n",
       "</div>"
      ],
      "text/plain": [
       "             ranknow          open          high           low         close  \\\n",
       "count  942297.000000  9.422970e+05  9.422970e+05  9.422970e+05  9.422970e+05   \n",
       "mean     1000.170608  3.483522e+02  4.085930e+02  2.962526e+02  3.461018e+02   \n",
       "std       587.575283  1.318436e+04  1.616386e+04  1.092931e+04  1.309822e+04   \n",
       "min         1.000000  2.500000e-09  3.200000e-09  2.500000e-10  2.000000e-10   \n",
       "25%       465.000000  2.321000e-03  2.628000e-03  2.044000e-03  2.314000e-03   \n",
       "50%      1072.000000  2.398300e-02  2.680200e-02  2.143700e-02  2.389200e-02   \n",
       "75%      1484.000000  2.268600e-01  2.508940e-01  2.043910e-01  2.259340e-01   \n",
       "max      2072.000000  2.298390e+06  2.926100e+06  2.030590e+06  2.300740e+06   \n",
       "\n",
       "             volume        market    close_ratio        spread  \n",
       "count  9.422970e+05  9.422970e+05  942297.000000  9.422970e+05  \n",
       "mean   8.720383e+06  1.725060e+08       0.459499  1.123400e+02  \n",
       "std    1.839802e+08  3.575590e+09       0.326160  6.783713e+03  \n",
       "min    0.000000e+00  0.000000e+00      -1.000000  0.000000e+00  \n",
       "25%    1.750000e+02  2.958100e+04       0.162900  0.000000e+00  \n",
       "50%    4.278000e+03  5.227960e+05       0.432400  0.000000e+00  \n",
       "75%    1.190900e+05  6.874647e+06       0.745800  3.000000e-02  \n",
       "max    2.384090e+10  3.265025e+11       1.000000  1.770563e+06  "
      ]
     },
     "execution_count": 8,
     "metadata": {},
     "output_type": "execute_result"
    }
   ],
   "source": [
    "crypto_raw_df.describe()"
   ]
  },
  {
   "cell_type": "code",
   "execution_count": 20,
   "id": "816b3c06",
   "metadata": {},
   "outputs": [],
   "source": [
    "#Q11"
   ]
  },
  {
   "cell_type": "code",
   "execution_count": 21,
   "id": "9d9c20f6",
   "metadata": {},
   "outputs": [],
   "source": [
    "top_rated_coin_based_on_rank = crypto_raw_df.nsmallest(1,'ranknow')"
   ]
  },
  {
   "cell_type": "code",
   "execution_count": 22,
   "id": "c663b81d",
   "metadata": {},
   "outputs": [
    {
     "data": {
      "text/html": [
       "<div>\n",
       "<style scoped>\n",
       "    .dataframe tbody tr th:only-of-type {\n",
       "        vertical-align: middle;\n",
       "    }\n",
       "\n",
       "    .dataframe tbody tr th {\n",
       "        vertical-align: top;\n",
       "    }\n",
       "\n",
       "    .dataframe thead th {\n",
       "        text-align: right;\n",
       "    }\n",
       "</style>\n",
       "<table border=\"1\" class=\"dataframe\">\n",
       "  <thead>\n",
       "    <tr style=\"text-align: right;\">\n",
       "      <th></th>\n",
       "      <th>slug</th>\n",
       "      <th>symbol</th>\n",
       "      <th>name</th>\n",
       "      <th>date</th>\n",
       "      <th>ranknow</th>\n",
       "      <th>open</th>\n",
       "      <th>high</th>\n",
       "      <th>low</th>\n",
       "      <th>close</th>\n",
       "      <th>volume</th>\n",
       "      <th>market</th>\n",
       "      <th>close_ratio</th>\n",
       "      <th>spread</th>\n",
       "    </tr>\n",
       "  </thead>\n",
       "  <tbody>\n",
       "    <tr>\n",
       "      <th>0</th>\n",
       "      <td>bitcoin</td>\n",
       "      <td>BTC</td>\n",
       "      <td>Bitcoin</td>\n",
       "      <td>2013-04-28</td>\n",
       "      <td>1</td>\n",
       "      <td>135.3</td>\n",
       "      <td>135.98</td>\n",
       "      <td>132.1</td>\n",
       "      <td>134.21</td>\n",
       "      <td>0.0</td>\n",
       "      <td>1.488567e+09</td>\n",
       "      <td>0.5438</td>\n",
       "      <td>3.88</td>\n",
       "    </tr>\n",
       "  </tbody>\n",
       "</table>\n",
       "</div>"
      ],
      "text/plain": [
       "      slug symbol     name        date  ranknow   open    high    low   close  \\\n",
       "0  bitcoin    BTC  Bitcoin  2013-04-28        1  135.3  135.98  132.1  134.21   \n",
       "\n",
       "   volume        market  close_ratio  spread  \n",
       "0     0.0  1.488567e+09       0.5438    3.88  "
      ]
     },
     "execution_count": 22,
     "metadata": {},
     "output_type": "execute_result"
    }
   ],
   "source": [
    "top_rated_coin_based_on_rank"
   ]
  },
  {
   "cell_type": "code",
   "execution_count": 23,
   "id": "590b53fd",
   "metadata": {},
   "outputs": [],
   "source": [
    "#Q1"
   ]
  },
  {
   "cell_type": "code",
   "execution_count": 24,
   "id": "d7f3fba7",
   "metadata": {},
   "outputs": [],
   "source": [
    "top_rated_coin_based_on_price = crypto_raw_df.nlargest(1,'high')"
   ]
  },
  {
   "cell_type": "code",
   "execution_count": 25,
   "id": "8de6e45a",
   "metadata": {},
   "outputs": [
    {
     "data": {
      "text/html": [
       "<div>\n",
       "<style scoped>\n",
       "    .dataframe tbody tr th:only-of-type {\n",
       "        vertical-align: middle;\n",
       "    }\n",
       "\n",
       "    .dataframe tbody tr th {\n",
       "        vertical-align: top;\n",
       "    }\n",
       "\n",
       "    .dataframe thead th {\n",
       "        text-align: right;\n",
       "    }\n",
       "</style>\n",
       "<table border=\"1\" class=\"dataframe\">\n",
       "  <thead>\n",
       "    <tr style=\"text-align: right;\">\n",
       "      <th></th>\n",
       "      <th>slug</th>\n",
       "      <th>symbol</th>\n",
       "      <th>name</th>\n",
       "      <th>date</th>\n",
       "      <th>ranknow</th>\n",
       "      <th>open</th>\n",
       "      <th>high</th>\n",
       "      <th>low</th>\n",
       "      <th>close</th>\n",
       "      <th>volume</th>\n",
       "      <th>market</th>\n",
       "      <th>close_ratio</th>\n",
       "      <th>spread</th>\n",
       "    </tr>\n",
       "  </thead>\n",
       "  <tbody>\n",
       "    <tr>\n",
       "      <th>941959</th>\n",
       "      <td>project-x</td>\n",
       "      <td>NANOX</td>\n",
       "      <td>Project-X</td>\n",
       "      <td>2017-12-26</td>\n",
       "      <td>1727</td>\n",
       "      <td>2298390.0</td>\n",
       "      <td>2926100.0</td>\n",
       "      <td>2030590.0</td>\n",
       "      <td>2278930.0</td>\n",
       "      <td>134610.0</td>\n",
       "      <td>178358.0</td>\n",
       "      <td>0.2773</td>\n",
       "      <td>895510.0</td>\n",
       "    </tr>\n",
       "  </tbody>\n",
       "</table>\n",
       "</div>"
      ],
      "text/plain": [
       "             slug symbol       name        date  ranknow       open  \\\n",
       "941959  project-x  NANOX  Project-X  2017-12-26     1727  2298390.0   \n",
       "\n",
       "             high        low      close    volume    market  close_ratio  \\\n",
       "941959  2926100.0  2030590.0  2278930.0  134610.0  178358.0       0.2773   \n",
       "\n",
       "          spread  \n",
       "941959  895510.0  "
      ]
     },
     "execution_count": 25,
     "metadata": {},
     "output_type": "execute_result"
    }
   ],
   "source": [
    "top_rated_coin_based_on_price"
   ]
  },
  {
   "cell_type": "code",
   "execution_count": 35,
   "id": "640860ea",
   "metadata": {},
   "outputs": [],
   "source": [
    "#Q2"
   ]
  },
  {
   "cell_type": "code",
   "execution_count": 36,
   "id": "2fadd846",
   "metadata": {},
   "outputs": [],
   "source": [
    "crypto_raw_df['differnce'] = crypto_raw_df['high'] - crypto_raw_df['low']"
   ]
  },
  {
   "cell_type": "code",
   "execution_count": 37,
   "id": "1a635f19",
   "metadata": {},
   "outputs": [],
   "source": [
    "most_fell_coin = crypto_raw_df.nlargest(1,'differnce')"
   ]
  },
  {
   "cell_type": "code",
   "execution_count": 38,
   "id": "66d2a218",
   "metadata": {},
   "outputs": [
    {
     "data": {
      "text/html": [
       "<div>\n",
       "<style scoped>\n",
       "    .dataframe tbody tr th:only-of-type {\n",
       "        vertical-align: middle;\n",
       "    }\n",
       "\n",
       "    .dataframe tbody tr th {\n",
       "        vertical-align: top;\n",
       "    }\n",
       "\n",
       "    .dataframe thead th {\n",
       "        text-align: right;\n",
       "    }\n",
       "</style>\n",
       "<table border=\"1\" class=\"dataframe\">\n",
       "  <thead>\n",
       "    <tr style=\"text-align: right;\">\n",
       "      <th></th>\n",
       "      <th>slug</th>\n",
       "      <th>symbol</th>\n",
       "      <th>name</th>\n",
       "      <th>date</th>\n",
       "      <th>ranknow</th>\n",
       "      <th>open</th>\n",
       "      <th>high</th>\n",
       "      <th>low</th>\n",
       "      <th>close</th>\n",
       "      <th>volume</th>\n",
       "      <th>market</th>\n",
       "      <th>close_ratio</th>\n",
       "      <th>spread</th>\n",
       "      <th>differnce</th>\n",
       "    </tr>\n",
       "  </thead>\n",
       "  <tbody>\n",
       "    <tr>\n",
       "      <th>941960</th>\n",
       "      <td>project-x</td>\n",
       "      <td>NANOX</td>\n",
       "      <td>Project-X</td>\n",
       "      <td>2017-12-27</td>\n",
       "      <td>1727</td>\n",
       "      <td>2280580.0</td>\n",
       "      <td>2550090.0</td>\n",
       "      <td>779527.0</td>\n",
       "      <td>855170.0</td>\n",
       "      <td>54631.0</td>\n",
       "      <td>66929.0</td>\n",
       "      <td>0.0427</td>\n",
       "      <td>1770563.0</td>\n",
       "      <td>1770563.0</td>\n",
       "    </tr>\n",
       "  </tbody>\n",
       "</table>\n",
       "</div>"
      ],
      "text/plain": [
       "             slug symbol       name        date  ranknow       open  \\\n",
       "941960  project-x  NANOX  Project-X  2017-12-27     1727  2280580.0   \n",
       "\n",
       "             high       low     close   volume   market  close_ratio  \\\n",
       "941960  2550090.0  779527.0  855170.0  54631.0  66929.0       0.0427   \n",
       "\n",
       "           spread  differnce  \n",
       "941960  1770563.0  1770563.0  "
      ]
     },
     "execution_count": 38,
     "metadata": {},
     "output_type": "execute_result"
    }
   ],
   "source": [
    "most_fell_coin"
   ]
  },
  {
   "cell_type": "code",
   "execution_count": 45,
   "id": "741c0441",
   "metadata": {},
   "outputs": [],
   "source": [
    "import datetime as dt\n",
    "crypto_raw_df['date'] = pd.to_datetime(crypto_raw_df['date'])"
   ]
  },
  {
   "cell_type": "code",
   "execution_count": 46,
   "id": "a91dc13d",
   "metadata": {},
   "outputs": [
    {
     "data": {
      "text/html": [
       "<div>\n",
       "<style scoped>\n",
       "    .dataframe tbody tr th:only-of-type {\n",
       "        vertical-align: middle;\n",
       "    }\n",
       "\n",
       "    .dataframe tbody tr th {\n",
       "        vertical-align: top;\n",
       "    }\n",
       "\n",
       "    .dataframe thead th {\n",
       "        text-align: right;\n",
       "    }\n",
       "</style>\n",
       "<table border=\"1\" class=\"dataframe\">\n",
       "  <thead>\n",
       "    <tr style=\"text-align: right;\">\n",
       "      <th></th>\n",
       "      <th>slug</th>\n",
       "      <th>symbol</th>\n",
       "      <th>name</th>\n",
       "      <th>date</th>\n",
       "      <th>ranknow</th>\n",
       "      <th>open</th>\n",
       "      <th>high</th>\n",
       "      <th>low</th>\n",
       "      <th>close</th>\n",
       "      <th>volume</th>\n",
       "      <th>market</th>\n",
       "      <th>close_ratio</th>\n",
       "      <th>spread</th>\n",
       "      <th>differnce</th>\n",
       "    </tr>\n",
       "  </thead>\n",
       "  <tbody>\n",
       "    <tr>\n",
       "      <th>0</th>\n",
       "      <td>bitcoin</td>\n",
       "      <td>BTC</td>\n",
       "      <td>Bitcoin</td>\n",
       "      <td>2013-04-28</td>\n",
       "      <td>1</td>\n",
       "      <td>135.30</td>\n",
       "      <td>135.98</td>\n",
       "      <td>132.10</td>\n",
       "      <td>134.21</td>\n",
       "      <td>0.0</td>\n",
       "      <td>1.488567e+09</td>\n",
       "      <td>0.5438</td>\n",
       "      <td>3.88</td>\n",
       "      <td>3.88</td>\n",
       "    </tr>\n",
       "    <tr>\n",
       "      <th>1</th>\n",
       "      <td>bitcoin</td>\n",
       "      <td>BTC</td>\n",
       "      <td>Bitcoin</td>\n",
       "      <td>2013-04-29</td>\n",
       "      <td>1</td>\n",
       "      <td>134.44</td>\n",
       "      <td>147.49</td>\n",
       "      <td>134.00</td>\n",
       "      <td>144.54</td>\n",
       "      <td>0.0</td>\n",
       "      <td>1.603769e+09</td>\n",
       "      <td>0.7813</td>\n",
       "      <td>13.49</td>\n",
       "      <td>13.49</td>\n",
       "    </tr>\n",
       "    <tr>\n",
       "      <th>2</th>\n",
       "      <td>bitcoin</td>\n",
       "      <td>BTC</td>\n",
       "      <td>Bitcoin</td>\n",
       "      <td>2013-04-30</td>\n",
       "      <td>1</td>\n",
       "      <td>144.00</td>\n",
       "      <td>146.93</td>\n",
       "      <td>134.05</td>\n",
       "      <td>139.00</td>\n",
       "      <td>0.0</td>\n",
       "      <td>1.542813e+09</td>\n",
       "      <td>0.3843</td>\n",
       "      <td>12.88</td>\n",
       "      <td>12.88</td>\n",
       "    </tr>\n",
       "    <tr>\n",
       "      <th>3</th>\n",
       "      <td>bitcoin</td>\n",
       "      <td>BTC</td>\n",
       "      <td>Bitcoin</td>\n",
       "      <td>2013-05-01</td>\n",
       "      <td>1</td>\n",
       "      <td>139.00</td>\n",
       "      <td>139.89</td>\n",
       "      <td>107.72</td>\n",
       "      <td>116.99</td>\n",
       "      <td>0.0</td>\n",
       "      <td>1.298955e+09</td>\n",
       "      <td>0.2882</td>\n",
       "      <td>32.17</td>\n",
       "      <td>32.17</td>\n",
       "    </tr>\n",
       "    <tr>\n",
       "      <th>4</th>\n",
       "      <td>bitcoin</td>\n",
       "      <td>BTC</td>\n",
       "      <td>Bitcoin</td>\n",
       "      <td>2013-05-02</td>\n",
       "      <td>1</td>\n",
       "      <td>116.38</td>\n",
       "      <td>125.60</td>\n",
       "      <td>92.28</td>\n",
       "      <td>105.21</td>\n",
       "      <td>0.0</td>\n",
       "      <td>1.168517e+09</td>\n",
       "      <td>0.3881</td>\n",
       "      <td>33.32</td>\n",
       "      <td>33.32</td>\n",
       "    </tr>\n",
       "  </tbody>\n",
       "</table>\n",
       "</div>"
      ],
      "text/plain": [
       "      slug symbol     name       date  ranknow    open    high     low  \\\n",
       "0  bitcoin    BTC  Bitcoin 2013-04-28        1  135.30  135.98  132.10   \n",
       "1  bitcoin    BTC  Bitcoin 2013-04-29        1  134.44  147.49  134.00   \n",
       "2  bitcoin    BTC  Bitcoin 2013-04-30        1  144.00  146.93  134.05   \n",
       "3  bitcoin    BTC  Bitcoin 2013-05-01        1  139.00  139.89  107.72   \n",
       "4  bitcoin    BTC  Bitcoin 2013-05-02        1  116.38  125.60   92.28   \n",
       "\n",
       "    close  volume        market  close_ratio  spread  differnce  \n",
       "0  134.21     0.0  1.488567e+09       0.5438    3.88       3.88  \n",
       "1  144.54     0.0  1.603769e+09       0.7813   13.49      13.49  \n",
       "2  139.00     0.0  1.542813e+09       0.3843   12.88      12.88  \n",
       "3  116.99     0.0  1.298955e+09       0.2882   32.17      32.17  \n",
       "4  105.21     0.0  1.168517e+09       0.3881   33.32      33.32  "
      ]
     },
     "execution_count": 46,
     "metadata": {},
     "output_type": "execute_result"
    }
   ],
   "source": [
    "crypto_raw_df.head()"
   ]
  },
  {
   "cell_type": "code",
   "execution_count": 49,
   "id": "2909355c",
   "metadata": {},
   "outputs": [],
   "source": [
    "crypto_raw_df['year'] = crypto_raw_df['date'].dt.year\n",
    "crypto_raw_df['month'] = crypto_raw_df['date'].dt.month\n"
   ]
  },
  {
   "cell_type": "code",
   "execution_count": 50,
   "id": "4706612a",
   "metadata": {},
   "outputs": [
    {
     "data": {
      "text/html": [
       "<div>\n",
       "<style scoped>\n",
       "    .dataframe tbody tr th:only-of-type {\n",
       "        vertical-align: middle;\n",
       "    }\n",
       "\n",
       "    .dataframe tbody tr th {\n",
       "        vertical-align: top;\n",
       "    }\n",
       "\n",
       "    .dataframe thead th {\n",
       "        text-align: right;\n",
       "    }\n",
       "</style>\n",
       "<table border=\"1\" class=\"dataframe\">\n",
       "  <thead>\n",
       "    <tr style=\"text-align: right;\">\n",
       "      <th></th>\n",
       "      <th>slug</th>\n",
       "      <th>symbol</th>\n",
       "      <th>name</th>\n",
       "      <th>date</th>\n",
       "      <th>ranknow</th>\n",
       "      <th>open</th>\n",
       "      <th>high</th>\n",
       "      <th>low</th>\n",
       "      <th>close</th>\n",
       "      <th>volume</th>\n",
       "      <th>market</th>\n",
       "      <th>close_ratio</th>\n",
       "      <th>spread</th>\n",
       "      <th>differnce</th>\n",
       "      <th>year</th>\n",
       "      <th>month</th>\n",
       "    </tr>\n",
       "  </thead>\n",
       "  <tbody>\n",
       "    <tr>\n",
       "      <th>0</th>\n",
       "      <td>bitcoin</td>\n",
       "      <td>BTC</td>\n",
       "      <td>Bitcoin</td>\n",
       "      <td>2013-04-28</td>\n",
       "      <td>1</td>\n",
       "      <td>135.30</td>\n",
       "      <td>135.98</td>\n",
       "      <td>132.10</td>\n",
       "      <td>134.21</td>\n",
       "      <td>0.0</td>\n",
       "      <td>1.488567e+09</td>\n",
       "      <td>0.5438</td>\n",
       "      <td>3.88</td>\n",
       "      <td>3.88</td>\n",
       "      <td>2013</td>\n",
       "      <td>4</td>\n",
       "    </tr>\n",
       "    <tr>\n",
       "      <th>1</th>\n",
       "      <td>bitcoin</td>\n",
       "      <td>BTC</td>\n",
       "      <td>Bitcoin</td>\n",
       "      <td>2013-04-29</td>\n",
       "      <td>1</td>\n",
       "      <td>134.44</td>\n",
       "      <td>147.49</td>\n",
       "      <td>134.00</td>\n",
       "      <td>144.54</td>\n",
       "      <td>0.0</td>\n",
       "      <td>1.603769e+09</td>\n",
       "      <td>0.7813</td>\n",
       "      <td>13.49</td>\n",
       "      <td>13.49</td>\n",
       "      <td>2013</td>\n",
       "      <td>4</td>\n",
       "    </tr>\n",
       "    <tr>\n",
       "      <th>2</th>\n",
       "      <td>bitcoin</td>\n",
       "      <td>BTC</td>\n",
       "      <td>Bitcoin</td>\n",
       "      <td>2013-04-30</td>\n",
       "      <td>1</td>\n",
       "      <td>144.00</td>\n",
       "      <td>146.93</td>\n",
       "      <td>134.05</td>\n",
       "      <td>139.00</td>\n",
       "      <td>0.0</td>\n",
       "      <td>1.542813e+09</td>\n",
       "      <td>0.3843</td>\n",
       "      <td>12.88</td>\n",
       "      <td>12.88</td>\n",
       "      <td>2013</td>\n",
       "      <td>4</td>\n",
       "    </tr>\n",
       "    <tr>\n",
       "      <th>3</th>\n",
       "      <td>bitcoin</td>\n",
       "      <td>BTC</td>\n",
       "      <td>Bitcoin</td>\n",
       "      <td>2013-05-01</td>\n",
       "      <td>1</td>\n",
       "      <td>139.00</td>\n",
       "      <td>139.89</td>\n",
       "      <td>107.72</td>\n",
       "      <td>116.99</td>\n",
       "      <td>0.0</td>\n",
       "      <td>1.298955e+09</td>\n",
       "      <td>0.2882</td>\n",
       "      <td>32.17</td>\n",
       "      <td>32.17</td>\n",
       "      <td>2013</td>\n",
       "      <td>5</td>\n",
       "    </tr>\n",
       "    <tr>\n",
       "      <th>4</th>\n",
       "      <td>bitcoin</td>\n",
       "      <td>BTC</td>\n",
       "      <td>Bitcoin</td>\n",
       "      <td>2013-05-02</td>\n",
       "      <td>1</td>\n",
       "      <td>116.38</td>\n",
       "      <td>125.60</td>\n",
       "      <td>92.28</td>\n",
       "      <td>105.21</td>\n",
       "      <td>0.0</td>\n",
       "      <td>1.168517e+09</td>\n",
       "      <td>0.3881</td>\n",
       "      <td>33.32</td>\n",
       "      <td>33.32</td>\n",
       "      <td>2013</td>\n",
       "      <td>5</td>\n",
       "    </tr>\n",
       "  </tbody>\n",
       "</table>\n",
       "</div>"
      ],
      "text/plain": [
       "      slug symbol     name       date  ranknow    open    high     low  \\\n",
       "0  bitcoin    BTC  Bitcoin 2013-04-28        1  135.30  135.98  132.10   \n",
       "1  bitcoin    BTC  Bitcoin 2013-04-29        1  134.44  147.49  134.00   \n",
       "2  bitcoin    BTC  Bitcoin 2013-04-30        1  144.00  146.93  134.05   \n",
       "3  bitcoin    BTC  Bitcoin 2013-05-01        1  139.00  139.89  107.72   \n",
       "4  bitcoin    BTC  Bitcoin 2013-05-02        1  116.38  125.60   92.28   \n",
       "\n",
       "    close  volume        market  close_ratio  spread  differnce  year  month  \n",
       "0  134.21     0.0  1.488567e+09       0.5438    3.88       3.88  2013      4  \n",
       "1  144.54     0.0  1.603769e+09       0.7813   13.49      13.49  2013      4  \n",
       "2  139.00     0.0  1.542813e+09       0.3843   12.88      12.88  2013      4  \n",
       "3  116.99     0.0  1.298955e+09       0.2882   32.17      32.17  2013      5  \n",
       "4  105.21     0.0  1.168517e+09       0.3881   33.32      33.32  2013      5  "
      ]
     },
     "execution_count": 50,
     "metadata": {},
     "output_type": "execute_result"
    }
   ],
   "source": [
    "crypto_raw_df.head()"
   ]
  },
  {
   "cell_type": "code",
   "execution_count": 57,
   "id": "969ab5c6",
   "metadata": {},
   "outputs": [],
   "source": [
    "most_fell_coin_dropped_year = crypto_raw_df[crypto_raw_df['year'] == 2017]"
   ]
  },
  {
   "cell_type": "code",
   "execution_count": 58,
   "id": "d53c236b",
   "metadata": {},
   "outputs": [],
   "source": [
    "most_fell_coin_dropped_period = most_fell_coin_dropped_year[most_fell_coin_dropped_year['month'] == 12]"
   ]
  },
  {
   "cell_type": "code",
   "execution_count": 60,
   "id": "4713a691",
   "metadata": {},
   "outputs": [],
   "source": [
    "most_fell_coin_dropped = most_fell_coin_dropped_period[most_fell_coin_dropped_period['name'] == 'Project-X']"
   ]
  },
  {
   "cell_type": "code",
   "execution_count": 61,
   "id": "17814b6e",
   "metadata": {},
   "outputs": [
    {
     "data": {
      "text/html": [
       "<div>\n",
       "<style scoped>\n",
       "    .dataframe tbody tr th:only-of-type {\n",
       "        vertical-align: middle;\n",
       "    }\n",
       "\n",
       "    .dataframe tbody tr th {\n",
       "        vertical-align: top;\n",
       "    }\n",
       "\n",
       "    .dataframe thead th {\n",
       "        text-align: right;\n",
       "    }\n",
       "</style>\n",
       "<table border=\"1\" class=\"dataframe\">\n",
       "  <thead>\n",
       "    <tr style=\"text-align: right;\">\n",
       "      <th></th>\n",
       "      <th>slug</th>\n",
       "      <th>symbol</th>\n",
       "      <th>name</th>\n",
       "      <th>date</th>\n",
       "      <th>ranknow</th>\n",
       "      <th>open</th>\n",
       "      <th>high</th>\n",
       "      <th>low</th>\n",
       "      <th>close</th>\n",
       "      <th>volume</th>\n",
       "      <th>market</th>\n",
       "      <th>close_ratio</th>\n",
       "      <th>spread</th>\n",
       "      <th>differnce</th>\n",
       "      <th>year</th>\n",
       "      <th>month</th>\n",
       "    </tr>\n",
       "  </thead>\n",
       "  <tbody>\n",
       "    <tr>\n",
       "      <th>941934</th>\n",
       "      <td>project-x</td>\n",
       "      <td>NANOX</td>\n",
       "      <td>Project-X</td>\n",
       "      <td>2017-12-01</td>\n",
       "      <td>1727</td>\n",
       "      <td>64955.0</td>\n",
       "      <td>65674.5</td>\n",
       "      <td>32573.0</td>\n",
       "      <td>33915.1</td>\n",
       "      <td>260.0</td>\n",
       "      <td>2654.0</td>\n",
       "      <td>0.0405</td>\n",
       "      <td>33101.5</td>\n",
       "      <td>33101.5</td>\n",
       "      <td>2017</td>\n",
       "      <td>12</td>\n",
       "    </tr>\n",
       "    <tr>\n",
       "      <th>941935</th>\n",
       "      <td>project-x</td>\n",
       "      <td>NANOX</td>\n",
       "      <td>Project-X</td>\n",
       "      <td>2017-12-02</td>\n",
       "      <td>1727</td>\n",
       "      <td>33886.3</td>\n",
       "      <td>80787.1</td>\n",
       "      <td>33820.0</td>\n",
       "      <td>76448.8</td>\n",
       "      <td>756.0</td>\n",
       "      <td>5983.0</td>\n",
       "      <td>0.9076</td>\n",
       "      <td>46967.1</td>\n",
       "      <td>46967.1</td>\n",
       "      <td>2017</td>\n",
       "      <td>12</td>\n",
       "    </tr>\n",
       "    <tr>\n",
       "      <th>941936</th>\n",
       "      <td>project-x</td>\n",
       "      <td>NANOX</td>\n",
       "      <td>Project-X</td>\n",
       "      <td>2017-12-03</td>\n",
       "      <td>1727</td>\n",
       "      <td>76521.8</td>\n",
       "      <td>78432.8</td>\n",
       "      <td>57842.4</td>\n",
       "      <td>67228.9</td>\n",
       "      <td>58.0</td>\n",
       "      <td>5262.0</td>\n",
       "      <td>0.4559</td>\n",
       "      <td>20590.4</td>\n",
       "      <td>20590.4</td>\n",
       "      <td>2017</td>\n",
       "      <td>12</td>\n",
       "    </tr>\n",
       "    <tr>\n",
       "      <th>941937</th>\n",
       "      <td>project-x</td>\n",
       "      <td>NANOX</td>\n",
       "      <td>Project-X</td>\n",
       "      <td>2017-12-04</td>\n",
       "      <td>1727</td>\n",
       "      <td>67451.8</td>\n",
       "      <td>87404.3</td>\n",
       "      <td>57708.1</td>\n",
       "      <td>61657.0</td>\n",
       "      <td>106.0</td>\n",
       "      <td>4826.0</td>\n",
       "      <td>0.1330</td>\n",
       "      <td>29696.2</td>\n",
       "      <td>29696.2</td>\n",
       "      <td>2017</td>\n",
       "      <td>12</td>\n",
       "    </tr>\n",
       "    <tr>\n",
       "      <th>941938</th>\n",
       "      <td>project-x</td>\n",
       "      <td>NANOX</td>\n",
       "      <td>Project-X</td>\n",
       "      <td>2017-12-05</td>\n",
       "      <td>1727</td>\n",
       "      <td>61778.2</td>\n",
       "      <td>61990.9</td>\n",
       "      <td>38260.8</td>\n",
       "      <td>52770.5</td>\n",
       "      <td>395.0</td>\n",
       "      <td>4130.0</td>\n",
       "      <td>0.6114</td>\n",
       "      <td>23730.1</td>\n",
       "      <td>23730.1</td>\n",
       "      <td>2017</td>\n",
       "      <td>12</td>\n",
       "    </tr>\n",
       "    <tr>\n",
       "      <th>941939</th>\n",
       "      <td>project-x</td>\n",
       "      <td>NANOX</td>\n",
       "      <td>Project-X</td>\n",
       "      <td>2017-12-06</td>\n",
       "      <td>1727</td>\n",
       "      <td>52653.5</td>\n",
       "      <td>67516.5</td>\n",
       "      <td>52653.5</td>\n",
       "      <td>67421.7</td>\n",
       "      <td>220.0</td>\n",
       "      <td>5277.0</td>\n",
       "      <td>0.9936</td>\n",
       "      <td>14863.0</td>\n",
       "      <td>14863.0</td>\n",
       "      <td>2017</td>\n",
       "      <td>12</td>\n",
       "    </tr>\n",
       "    <tr>\n",
       "      <th>941940</th>\n",
       "      <td>project-x</td>\n",
       "      <td>NANOX</td>\n",
       "      <td>Project-X</td>\n",
       "      <td>2017-12-07</td>\n",
       "      <td>1727</td>\n",
       "      <td>67305.8</td>\n",
       "      <td>69551.6</td>\n",
       "      <td>53355.2</td>\n",
       "      <td>63717.9</td>\n",
       "      <td>663.0</td>\n",
       "      <td>4987.0</td>\n",
       "      <td>0.6398</td>\n",
       "      <td>16196.4</td>\n",
       "      <td>16196.4</td>\n",
       "      <td>2017</td>\n",
       "      <td>12</td>\n",
       "    </tr>\n",
       "    <tr>\n",
       "      <th>941941</th>\n",
       "      <td>project-x</td>\n",
       "      <td>NANOX</td>\n",
       "      <td>Project-X</td>\n",
       "      <td>2017-12-08</td>\n",
       "      <td>1727</td>\n",
       "      <td>63867.8</td>\n",
       "      <td>78849.0</td>\n",
       "      <td>54447.8</td>\n",
       "      <td>73098.2</td>\n",
       "      <td>56.0</td>\n",
       "      <td>5721.0</td>\n",
       "      <td>0.7643</td>\n",
       "      <td>24401.2</td>\n",
       "      <td>24401.2</td>\n",
       "      <td>2017</td>\n",
       "      <td>12</td>\n",
       "    </tr>\n",
       "    <tr>\n",
       "      <th>941942</th>\n",
       "      <td>project-x</td>\n",
       "      <td>NANOX</td>\n",
       "      <td>Project-X</td>\n",
       "      <td>2017-12-09</td>\n",
       "      <td>1727</td>\n",
       "      <td>73024.6</td>\n",
       "      <td>74106.5</td>\n",
       "      <td>48623.5</td>\n",
       "      <td>53766.8</td>\n",
       "      <td>34.0</td>\n",
       "      <td>4208.0</td>\n",
       "      <td>0.2018</td>\n",
       "      <td>25483.0</td>\n",
       "      <td>25483.0</td>\n",
       "      <td>2017</td>\n",
       "      <td>12</td>\n",
       "    </tr>\n",
       "    <tr>\n",
       "      <th>941943</th>\n",
       "      <td>project-x</td>\n",
       "      <td>NANOX</td>\n",
       "      <td>Project-X</td>\n",
       "      <td>2017-12-10</td>\n",
       "      <td>1727</td>\n",
       "      <td>53984.7</td>\n",
       "      <td>53984.7</td>\n",
       "      <td>27628.5</td>\n",
       "      <td>30715.7</td>\n",
       "      <td>461.0</td>\n",
       "      <td>2404.0</td>\n",
       "      <td>0.1171</td>\n",
       "      <td>26356.2</td>\n",
       "      <td>26356.2</td>\n",
       "      <td>2017</td>\n",
       "      <td>12</td>\n",
       "    </tr>\n",
       "    <tr>\n",
       "      <th>941944</th>\n",
       "      <td>project-x</td>\n",
       "      <td>NANOX</td>\n",
       "      <td>Project-X</td>\n",
       "      <td>2017-12-11</td>\n",
       "      <td>1727</td>\n",
       "      <td>30494.0</td>\n",
       "      <td>33836.4</td>\n",
       "      <td>30360.6</td>\n",
       "      <td>33112.7</td>\n",
       "      <td>51.0</td>\n",
       "      <td>2592.0</td>\n",
       "      <td>0.7918</td>\n",
       "      <td>3475.8</td>\n",
       "      <td>3475.8</td>\n",
       "      <td>2017</td>\n",
       "      <td>12</td>\n",
       "    </tr>\n",
       "    <tr>\n",
       "      <th>941945</th>\n",
       "      <td>project-x</td>\n",
       "      <td>NANOX</td>\n",
       "      <td>Project-X</td>\n",
       "      <td>2017-12-12</td>\n",
       "      <td>1727</td>\n",
       "      <td>67209.7</td>\n",
       "      <td>68301.5</td>\n",
       "      <td>33436.9</td>\n",
       "      <td>41583.0</td>\n",
       "      <td>227.0</td>\n",
       "      <td>3254.0</td>\n",
       "      <td>0.2336</td>\n",
       "      <td>34864.6</td>\n",
       "      <td>34864.6</td>\n",
       "      <td>2017</td>\n",
       "      <td>12</td>\n",
       "    </tr>\n",
       "    <tr>\n",
       "      <th>941946</th>\n",
       "      <td>project-x</td>\n",
       "      <td>NANOX</td>\n",
       "      <td>Project-X</td>\n",
       "      <td>2017-12-13</td>\n",
       "      <td>1727</td>\n",
       "      <td>41617.7</td>\n",
       "      <td>83991.7</td>\n",
       "      <td>39666.3</td>\n",
       "      <td>82141.1</td>\n",
       "      <td>1555.0</td>\n",
       "      <td>6429.0</td>\n",
       "      <td>0.9582</td>\n",
       "      <td>44325.4</td>\n",
       "      <td>44325.4</td>\n",
       "      <td>2017</td>\n",
       "      <td>12</td>\n",
       "    </tr>\n",
       "    <tr>\n",
       "      <th>941947</th>\n",
       "      <td>project-x</td>\n",
       "      <td>NANOX</td>\n",
       "      <td>Project-X</td>\n",
       "      <td>2017-12-14</td>\n",
       "      <td>1727</td>\n",
       "      <td>81877.4</td>\n",
       "      <td>90438.0</td>\n",
       "      <td>65840.3</td>\n",
       "      <td>66251.0</td>\n",
       "      <td>149.0</td>\n",
       "      <td>5185.0</td>\n",
       "      <td>0.0167</td>\n",
       "      <td>24597.7</td>\n",
       "      <td>24597.7</td>\n",
       "      <td>2017</td>\n",
       "      <td>12</td>\n",
       "    </tr>\n",
       "    <tr>\n",
       "      <th>941948</th>\n",
       "      <td>project-x</td>\n",
       "      <td>NANOX</td>\n",
       "      <td>Project-X</td>\n",
       "      <td>2017-12-15</td>\n",
       "      <td>1727</td>\n",
       "      <td>66350.6</td>\n",
       "      <td>90373.2</td>\n",
       "      <td>66337.8</td>\n",
       "      <td>88110.5</td>\n",
       "      <td>611.0</td>\n",
       "      <td>6896.0</td>\n",
       "      <td>0.9059</td>\n",
       "      <td>24035.4</td>\n",
       "      <td>24035.4</td>\n",
       "      <td>2017</td>\n",
       "      <td>12</td>\n",
       "    </tr>\n",
       "    <tr>\n",
       "      <th>941949</th>\n",
       "      <td>project-x</td>\n",
       "      <td>NANOX</td>\n",
       "      <td>Project-X</td>\n",
       "      <td>2017-12-16</td>\n",
       "      <td>1727</td>\n",
       "      <td>88234.2</td>\n",
       "      <td>188255.0</td>\n",
       "      <td>71438.4</td>\n",
       "      <td>120740.0</td>\n",
       "      <td>1745.0</td>\n",
       "      <td>9450.0</td>\n",
       "      <td>0.4220</td>\n",
       "      <td>116816.6</td>\n",
       "      <td>116816.6</td>\n",
       "      <td>2017</td>\n",
       "      <td>12</td>\n",
       "    </tr>\n",
       "    <tr>\n",
       "      <th>941950</th>\n",
       "      <td>project-x</td>\n",
       "      <td>NANOX</td>\n",
       "      <td>Project-X</td>\n",
       "      <td>2017-12-17</td>\n",
       "      <td>1727</td>\n",
       "      <td>120755.0</td>\n",
       "      <td>120755.0</td>\n",
       "      <td>79454.9</td>\n",
       "      <td>80321.2</td>\n",
       "      <td>643.0</td>\n",
       "      <td>6286.0</td>\n",
       "      <td>0.0210</td>\n",
       "      <td>41300.1</td>\n",
       "      <td>41300.1</td>\n",
       "      <td>2017</td>\n",
       "      <td>12</td>\n",
       "    </tr>\n",
       "    <tr>\n",
       "      <th>941951</th>\n",
       "      <td>project-x</td>\n",
       "      <td>NANOX</td>\n",
       "      <td>Project-X</td>\n",
       "      <td>2017-12-18</td>\n",
       "      <td>1727</td>\n",
       "      <td>80564.4</td>\n",
       "      <td>95586.7</td>\n",
       "      <td>76950.9</td>\n",
       "      <td>95586.7</td>\n",
       "      <td>197.0</td>\n",
       "      <td>7481.0</td>\n",
       "      <td>1.0000</td>\n",
       "      <td>18635.8</td>\n",
       "      <td>18635.8</td>\n",
       "      <td>2017</td>\n",
       "      <td>12</td>\n",
       "    </tr>\n",
       "    <tr>\n",
       "      <th>941952</th>\n",
       "      <td>project-x</td>\n",
       "      <td>NANOX</td>\n",
       "      <td>Project-X</td>\n",
       "      <td>2017-12-19</td>\n",
       "      <td>1727</td>\n",
       "      <td>95667.7</td>\n",
       "      <td>1762800.0</td>\n",
       "      <td>88793.4</td>\n",
       "      <td>971750.0</td>\n",
       "      <td>52119.0</td>\n",
       "      <td>76053.0</td>\n",
       "      <td>0.5275</td>\n",
       "      <td>1674006.6</td>\n",
       "      <td>1674006.6</td>\n",
       "      <td>2017</td>\n",
       "      <td>12</td>\n",
       "    </tr>\n",
       "    <tr>\n",
       "      <th>941953</th>\n",
       "      <td>project-x</td>\n",
       "      <td>NANOX</td>\n",
       "      <td>Project-X</td>\n",
       "      <td>2017-12-20</td>\n",
       "      <td>1727</td>\n",
       "      <td>970792.0</td>\n",
       "      <td>1365570.0</td>\n",
       "      <td>348339.0</td>\n",
       "      <td>706928.0</td>\n",
       "      <td>50944.0</td>\n",
       "      <td>55327.0</td>\n",
       "      <td>0.3525</td>\n",
       "      <td>1017231.0</td>\n",
       "      <td>1017231.0</td>\n",
       "      <td>2017</td>\n",
       "      <td>12</td>\n",
       "    </tr>\n",
       "    <tr>\n",
       "      <th>941954</th>\n",
       "      <td>project-x</td>\n",
       "      <td>NANOX</td>\n",
       "      <td>Project-X</td>\n",
       "      <td>2017-12-21</td>\n",
       "      <td>1727</td>\n",
       "      <td>708779.0</td>\n",
       "      <td>737016.0</td>\n",
       "      <td>366394.0</td>\n",
       "      <td>469763.0</td>\n",
       "      <td>2075.0</td>\n",
       "      <td>36766.0</td>\n",
       "      <td>0.2789</td>\n",
       "      <td>370622.0</td>\n",
       "      <td>370622.0</td>\n",
       "      <td>2017</td>\n",
       "      <td>12</td>\n",
       "    </tr>\n",
       "    <tr>\n",
       "      <th>941955</th>\n",
       "      <td>project-x</td>\n",
       "      <td>NANOX</td>\n",
       "      <td>Project-X</td>\n",
       "      <td>2017-12-22</td>\n",
       "      <td>1727</td>\n",
       "      <td>471391.0</td>\n",
       "      <td>661632.0</td>\n",
       "      <td>343377.0</td>\n",
       "      <td>519104.0</td>\n",
       "      <td>4511.0</td>\n",
       "      <td>40627.0</td>\n",
       "      <td>0.5522</td>\n",
       "      <td>318255.0</td>\n",
       "      <td>318255.0</td>\n",
       "      <td>2017</td>\n",
       "      <td>12</td>\n",
       "    </tr>\n",
       "    <tr>\n",
       "      <th>941956</th>\n",
       "      <td>project-x</td>\n",
       "      <td>NANOX</td>\n",
       "      <td>Project-X</td>\n",
       "      <td>2017-12-23</td>\n",
       "      <td>1727</td>\n",
       "      <td>524007.0</td>\n",
       "      <td>1675560.0</td>\n",
       "      <td>434562.0</td>\n",
       "      <td>1430240.0</td>\n",
       "      <td>64003.0</td>\n",
       "      <td>111936.0</td>\n",
       "      <td>0.8023</td>\n",
       "      <td>1240998.0</td>\n",
       "      <td>1240998.0</td>\n",
       "      <td>2017</td>\n",
       "      <td>12</td>\n",
       "    </tr>\n",
       "    <tr>\n",
       "      <th>941957</th>\n",
       "      <td>project-x</td>\n",
       "      <td>NANOX</td>\n",
       "      <td>Project-X</td>\n",
       "      <td>2017-12-24</td>\n",
       "      <td>1727</td>\n",
       "      <td>1446030.0</td>\n",
       "      <td>2633290.0</td>\n",
       "      <td>1331690.0</td>\n",
       "      <td>1866850.0</td>\n",
       "      <td>322658.0</td>\n",
       "      <td>146107.0</td>\n",
       "      <td>0.4112</td>\n",
       "      <td>1301600.0</td>\n",
       "      <td>1301600.0</td>\n",
       "      <td>2017</td>\n",
       "      <td>12</td>\n",
       "    </tr>\n",
       "    <tr>\n",
       "      <th>941958</th>\n",
       "      <td>project-x</td>\n",
       "      <td>NANOX</td>\n",
       "      <td>Project-X</td>\n",
       "      <td>2017-12-25</td>\n",
       "      <td>1727</td>\n",
       "      <td>1884830.0</td>\n",
       "      <td>2708300.0</td>\n",
       "      <td>1481080.0</td>\n",
       "      <td>2300740.0</td>\n",
       "      <td>126628.0</td>\n",
       "      <td>180065.0</td>\n",
       "      <td>0.6679</td>\n",
       "      <td>1227220.0</td>\n",
       "      <td>1227220.0</td>\n",
       "      <td>2017</td>\n",
       "      <td>12</td>\n",
       "    </tr>\n",
       "    <tr>\n",
       "      <th>941959</th>\n",
       "      <td>project-x</td>\n",
       "      <td>NANOX</td>\n",
       "      <td>Project-X</td>\n",
       "      <td>2017-12-26</td>\n",
       "      <td>1727</td>\n",
       "      <td>2298390.0</td>\n",
       "      <td>2926100.0</td>\n",
       "      <td>2030590.0</td>\n",
       "      <td>2278930.0</td>\n",
       "      <td>134610.0</td>\n",
       "      <td>178358.0</td>\n",
       "      <td>0.2773</td>\n",
       "      <td>895510.0</td>\n",
       "      <td>895510.0</td>\n",
       "      <td>2017</td>\n",
       "      <td>12</td>\n",
       "    </tr>\n",
       "    <tr>\n",
       "      <th>941960</th>\n",
       "      <td>project-x</td>\n",
       "      <td>NANOX</td>\n",
       "      <td>Project-X</td>\n",
       "      <td>2017-12-27</td>\n",
       "      <td>1727</td>\n",
       "      <td>2280580.0</td>\n",
       "      <td>2550090.0</td>\n",
       "      <td>779527.0</td>\n",
       "      <td>855170.0</td>\n",
       "      <td>54631.0</td>\n",
       "      <td>66929.0</td>\n",
       "      <td>0.0427</td>\n",
       "      <td>1770563.0</td>\n",
       "      <td>1770563.0</td>\n",
       "      <td>2017</td>\n",
       "      <td>12</td>\n",
       "    </tr>\n",
       "    <tr>\n",
       "      <th>941961</th>\n",
       "      <td>project-x</td>\n",
       "      <td>NANOX</td>\n",
       "      <td>Project-X</td>\n",
       "      <td>2017-12-28</td>\n",
       "      <td>1727</td>\n",
       "      <td>853376.0</td>\n",
       "      <td>1217350.0</td>\n",
       "      <td>289847.0</td>\n",
       "      <td>943642.0</td>\n",
       "      <td>37305.0</td>\n",
       "      <td>73853.0</td>\n",
       "      <td>0.7049</td>\n",
       "      <td>927503.0</td>\n",
       "      <td>927503.0</td>\n",
       "      <td>2017</td>\n",
       "      <td>12</td>\n",
       "    </tr>\n",
       "    <tr>\n",
       "      <th>941962</th>\n",
       "      <td>project-x</td>\n",
       "      <td>NANOX</td>\n",
       "      <td>Project-X</td>\n",
       "      <td>2017-12-29</td>\n",
       "      <td>1727</td>\n",
       "      <td>953410.0</td>\n",
       "      <td>1034770.0</td>\n",
       "      <td>502151.0</td>\n",
       "      <td>712084.0</td>\n",
       "      <td>23790.0</td>\n",
       "      <td>55731.0</td>\n",
       "      <td>0.3942</td>\n",
       "      <td>532619.0</td>\n",
       "      <td>532619.0</td>\n",
       "      <td>2017</td>\n",
       "      <td>12</td>\n",
       "    </tr>\n",
       "    <tr>\n",
       "      <th>941963</th>\n",
       "      <td>project-x</td>\n",
       "      <td>NANOX</td>\n",
       "      <td>Project-X</td>\n",
       "      <td>2017-12-30</td>\n",
       "      <td>1727</td>\n",
       "      <td>710293.0</td>\n",
       "      <td>803780.0</td>\n",
       "      <td>398776.0</td>\n",
       "      <td>438298.0</td>\n",
       "      <td>15726.0</td>\n",
       "      <td>34303.0</td>\n",
       "      <td>0.0976</td>\n",
       "      <td>405004.0</td>\n",
       "      <td>405004.0</td>\n",
       "      <td>2017</td>\n",
       "      <td>12</td>\n",
       "    </tr>\n",
       "    <tr>\n",
       "      <th>941964</th>\n",
       "      <td>project-x</td>\n",
       "      <td>NANOX</td>\n",
       "      <td>Project-X</td>\n",
       "      <td>2017-12-31</td>\n",
       "      <td>1727</td>\n",
       "      <td>433564.0</td>\n",
       "      <td>517624.0</td>\n",
       "      <td>407182.0</td>\n",
       "      <td>431750.0</td>\n",
       "      <td>12313.0</td>\n",
       "      <td>33790.0</td>\n",
       "      <td>0.2225</td>\n",
       "      <td>110442.0</td>\n",
       "      <td>110442.0</td>\n",
       "      <td>2017</td>\n",
       "      <td>12</td>\n",
       "    </tr>\n",
       "  </tbody>\n",
       "</table>\n",
       "</div>"
      ],
      "text/plain": [
       "             slug symbol       name       date  ranknow       open       high  \\\n",
       "941934  project-x  NANOX  Project-X 2017-12-01     1727    64955.0    65674.5   \n",
       "941935  project-x  NANOX  Project-X 2017-12-02     1727    33886.3    80787.1   \n",
       "941936  project-x  NANOX  Project-X 2017-12-03     1727    76521.8    78432.8   \n",
       "941937  project-x  NANOX  Project-X 2017-12-04     1727    67451.8    87404.3   \n",
       "941938  project-x  NANOX  Project-X 2017-12-05     1727    61778.2    61990.9   \n",
       "941939  project-x  NANOX  Project-X 2017-12-06     1727    52653.5    67516.5   \n",
       "941940  project-x  NANOX  Project-X 2017-12-07     1727    67305.8    69551.6   \n",
       "941941  project-x  NANOX  Project-X 2017-12-08     1727    63867.8    78849.0   \n",
       "941942  project-x  NANOX  Project-X 2017-12-09     1727    73024.6    74106.5   \n",
       "941943  project-x  NANOX  Project-X 2017-12-10     1727    53984.7    53984.7   \n",
       "941944  project-x  NANOX  Project-X 2017-12-11     1727    30494.0    33836.4   \n",
       "941945  project-x  NANOX  Project-X 2017-12-12     1727    67209.7    68301.5   \n",
       "941946  project-x  NANOX  Project-X 2017-12-13     1727    41617.7    83991.7   \n",
       "941947  project-x  NANOX  Project-X 2017-12-14     1727    81877.4    90438.0   \n",
       "941948  project-x  NANOX  Project-X 2017-12-15     1727    66350.6    90373.2   \n",
       "941949  project-x  NANOX  Project-X 2017-12-16     1727    88234.2   188255.0   \n",
       "941950  project-x  NANOX  Project-X 2017-12-17     1727   120755.0   120755.0   \n",
       "941951  project-x  NANOX  Project-X 2017-12-18     1727    80564.4    95586.7   \n",
       "941952  project-x  NANOX  Project-X 2017-12-19     1727    95667.7  1762800.0   \n",
       "941953  project-x  NANOX  Project-X 2017-12-20     1727   970792.0  1365570.0   \n",
       "941954  project-x  NANOX  Project-X 2017-12-21     1727   708779.0   737016.0   \n",
       "941955  project-x  NANOX  Project-X 2017-12-22     1727   471391.0   661632.0   \n",
       "941956  project-x  NANOX  Project-X 2017-12-23     1727   524007.0  1675560.0   \n",
       "941957  project-x  NANOX  Project-X 2017-12-24     1727  1446030.0  2633290.0   \n",
       "941958  project-x  NANOX  Project-X 2017-12-25     1727  1884830.0  2708300.0   \n",
       "941959  project-x  NANOX  Project-X 2017-12-26     1727  2298390.0  2926100.0   \n",
       "941960  project-x  NANOX  Project-X 2017-12-27     1727  2280580.0  2550090.0   \n",
       "941961  project-x  NANOX  Project-X 2017-12-28     1727   853376.0  1217350.0   \n",
       "941962  project-x  NANOX  Project-X 2017-12-29     1727   953410.0  1034770.0   \n",
       "941963  project-x  NANOX  Project-X 2017-12-30     1727   710293.0   803780.0   \n",
       "941964  project-x  NANOX  Project-X 2017-12-31     1727   433564.0   517624.0   \n",
       "\n",
       "              low      close    volume    market  close_ratio     spread  \\\n",
       "941934    32573.0    33915.1     260.0    2654.0       0.0405    33101.5   \n",
       "941935    33820.0    76448.8     756.0    5983.0       0.9076    46967.1   \n",
       "941936    57842.4    67228.9      58.0    5262.0       0.4559    20590.4   \n",
       "941937    57708.1    61657.0     106.0    4826.0       0.1330    29696.2   \n",
       "941938    38260.8    52770.5     395.0    4130.0       0.6114    23730.1   \n",
       "941939    52653.5    67421.7     220.0    5277.0       0.9936    14863.0   \n",
       "941940    53355.2    63717.9     663.0    4987.0       0.6398    16196.4   \n",
       "941941    54447.8    73098.2      56.0    5721.0       0.7643    24401.2   \n",
       "941942    48623.5    53766.8      34.0    4208.0       0.2018    25483.0   \n",
       "941943    27628.5    30715.7     461.0    2404.0       0.1171    26356.2   \n",
       "941944    30360.6    33112.7      51.0    2592.0       0.7918     3475.8   \n",
       "941945    33436.9    41583.0     227.0    3254.0       0.2336    34864.6   \n",
       "941946    39666.3    82141.1    1555.0    6429.0       0.9582    44325.4   \n",
       "941947    65840.3    66251.0     149.0    5185.0       0.0167    24597.7   \n",
       "941948    66337.8    88110.5     611.0    6896.0       0.9059    24035.4   \n",
       "941949    71438.4   120740.0    1745.0    9450.0       0.4220   116816.6   \n",
       "941950    79454.9    80321.2     643.0    6286.0       0.0210    41300.1   \n",
       "941951    76950.9    95586.7     197.0    7481.0       1.0000    18635.8   \n",
       "941952    88793.4   971750.0   52119.0   76053.0       0.5275  1674006.6   \n",
       "941953   348339.0   706928.0   50944.0   55327.0       0.3525  1017231.0   \n",
       "941954   366394.0   469763.0    2075.0   36766.0       0.2789   370622.0   \n",
       "941955   343377.0   519104.0    4511.0   40627.0       0.5522   318255.0   \n",
       "941956   434562.0  1430240.0   64003.0  111936.0       0.8023  1240998.0   \n",
       "941957  1331690.0  1866850.0  322658.0  146107.0       0.4112  1301600.0   \n",
       "941958  1481080.0  2300740.0  126628.0  180065.0       0.6679  1227220.0   \n",
       "941959  2030590.0  2278930.0  134610.0  178358.0       0.2773   895510.0   \n",
       "941960   779527.0   855170.0   54631.0   66929.0       0.0427  1770563.0   \n",
       "941961   289847.0   943642.0   37305.0   73853.0       0.7049   927503.0   \n",
       "941962   502151.0   712084.0   23790.0   55731.0       0.3942   532619.0   \n",
       "941963   398776.0   438298.0   15726.0   34303.0       0.0976   405004.0   \n",
       "941964   407182.0   431750.0   12313.0   33790.0       0.2225   110442.0   \n",
       "\n",
       "        differnce  year  month  \n",
       "941934    33101.5  2017     12  \n",
       "941935    46967.1  2017     12  \n",
       "941936    20590.4  2017     12  \n",
       "941937    29696.2  2017     12  \n",
       "941938    23730.1  2017     12  \n",
       "941939    14863.0  2017     12  \n",
       "941940    16196.4  2017     12  \n",
       "941941    24401.2  2017     12  \n",
       "941942    25483.0  2017     12  \n",
       "941943    26356.2  2017     12  \n",
       "941944     3475.8  2017     12  \n",
       "941945    34864.6  2017     12  \n",
       "941946    44325.4  2017     12  \n",
       "941947    24597.7  2017     12  \n",
       "941948    24035.4  2017     12  \n",
       "941949   116816.6  2017     12  \n",
       "941950    41300.1  2017     12  \n",
       "941951    18635.8  2017     12  \n",
       "941952  1674006.6  2017     12  \n",
       "941953  1017231.0  2017     12  \n",
       "941954   370622.0  2017     12  \n",
       "941955   318255.0  2017     12  \n",
       "941956  1240998.0  2017     12  \n",
       "941957  1301600.0  2017     12  \n",
       "941958  1227220.0  2017     12  \n",
       "941959   895510.0  2017     12  \n",
       "941960  1770563.0  2017     12  \n",
       "941961   927503.0  2017     12  \n",
       "941962   532619.0  2017     12  \n",
       "941963   405004.0  2017     12  \n",
       "941964   110442.0  2017     12  "
      ]
     },
     "execution_count": 61,
     "metadata": {},
     "output_type": "execute_result"
    }
   ],
   "source": [
    "most_fell_coin_dropped"
   ]
  },
  {
   "cell_type": "code",
   "execution_count": 62,
   "id": "7919a017",
   "metadata": {},
   "outputs": [
    {
     "data": {
      "text/plain": [
       "(31, 16)"
      ]
     },
     "execution_count": 62,
     "metadata": {},
     "output_type": "execute_result"
    }
   ],
   "source": [
    "most_fell_coin_dropped.shape"
   ]
  },
  {
   "cell_type": "code",
   "execution_count": 71,
   "id": "e1676271",
   "metadata": {},
   "outputs": [
    {
     "data": {
      "application/vnd.plotly.v1+json": {
       "config": {
        "plotlyServerURL": "https://plot.ly"
       },
       "data": [
        {
         "hovertemplate": "date=%{x}<br>differnce=%{y}<extra></extra>",
         "legendgroup": "",
         "line": {
          "color": "#636efa",
          "dash": "solid"
         },
         "marker": {
          "symbol": "circle"
         },
         "mode": "lines",
         "name": "",
         "orientation": "v",
         "showlegend": false,
         "type": "scatter",
         "x": [
          "2017-12-01T00:00:00",
          "2017-12-02T00:00:00",
          "2017-12-03T00:00:00",
          "2017-12-04T00:00:00",
          "2017-12-05T00:00:00",
          "2017-12-06T00:00:00",
          "2017-12-07T00:00:00",
          "2017-12-08T00:00:00",
          "2017-12-09T00:00:00",
          "2017-12-10T00:00:00",
          "2017-12-11T00:00:00",
          "2017-12-12T00:00:00",
          "2017-12-13T00:00:00",
          "2017-12-14T00:00:00",
          "2017-12-15T00:00:00",
          "2017-12-16T00:00:00",
          "2017-12-17T00:00:00",
          "2017-12-18T00:00:00",
          "2017-12-19T00:00:00",
          "2017-12-20T00:00:00",
          "2017-12-21T00:00:00",
          "2017-12-22T00:00:00",
          "2017-12-23T00:00:00",
          "2017-12-24T00:00:00",
          "2017-12-25T00:00:00",
          "2017-12-26T00:00:00",
          "2017-12-27T00:00:00",
          "2017-12-28T00:00:00",
          "2017-12-29T00:00:00",
          "2017-12-30T00:00:00",
          "2017-12-31T00:00:00"
         ],
         "xaxis": "x",
         "y": [
          33101.5,
          46967.100000000006,
          20590.4,
          29696.200000000004,
          23730.1,
          14863,
          16196.400000000009,
          24401.199999999997,
          25483,
          26356.199999999997,
          3475.800000000003,
          34864.6,
          44325.399999999994,
          24597.699999999997,
          24035.399999999994,
          116816.6,
          41300.100000000006,
          18635.800000000003,
          1674006.6,
          1017231,
          370622,
          318255,
          1240998,
          1301600,
          1227220,
          895510,
          1770563,
          927503,
          532619,
          405004,
          110442
         ],
         "yaxis": "y"
        },
        {
         "mode": "lines",
         "type": "scatter",
         "x": [
          "2017-12-01T00:00:00",
          "2017-12-02T00:00:00",
          "2017-12-03T00:00:00",
          "2017-12-04T00:00:00",
          "2017-12-05T00:00:00",
          "2017-12-06T00:00:00",
          "2017-12-07T00:00:00",
          "2017-12-08T00:00:00",
          "2017-12-09T00:00:00",
          "2017-12-10T00:00:00",
          "2017-12-11T00:00:00",
          "2017-12-12T00:00:00",
          "2017-12-13T00:00:00",
          "2017-12-14T00:00:00",
          "2017-12-15T00:00:00",
          "2017-12-16T00:00:00",
          "2017-12-17T00:00:00",
          "2017-12-18T00:00:00",
          "2017-12-19T00:00:00",
          "2017-12-20T00:00:00",
          "2017-12-21T00:00:00",
          "2017-12-22T00:00:00",
          "2017-12-23T00:00:00",
          "2017-12-24T00:00:00",
          "2017-12-25T00:00:00",
          "2017-12-26T00:00:00",
          "2017-12-27T00:00:00",
          "2017-12-28T00:00:00",
          "2017-12-29T00:00:00",
          "2017-12-30T00:00:00",
          "2017-12-31T00:00:00"
         ],
         "y": [
          65674.5,
          80787.1,
          78432.8,
          87404.3,
          61990.9,
          67516.5,
          69551.6,
          78849,
          74106.5,
          53984.7,
          33836.4,
          68301.5,
          83991.7,
          90438,
          90373.2,
          188255,
          120755,
          95586.7,
          1762800,
          1365570,
          737016,
          661632,
          1675560,
          2633290,
          2708300,
          2926100,
          2550090,
          1217350,
          1034770,
          803780,
          517624
         ]
        },
        {
         "mode": "lines",
         "type": "scatter",
         "x": [
          "2017-12-01T00:00:00",
          "2017-12-02T00:00:00",
          "2017-12-03T00:00:00",
          "2017-12-04T00:00:00",
          "2017-12-05T00:00:00",
          "2017-12-06T00:00:00",
          "2017-12-07T00:00:00",
          "2017-12-08T00:00:00",
          "2017-12-09T00:00:00",
          "2017-12-10T00:00:00",
          "2017-12-11T00:00:00",
          "2017-12-12T00:00:00",
          "2017-12-13T00:00:00",
          "2017-12-14T00:00:00",
          "2017-12-15T00:00:00",
          "2017-12-16T00:00:00",
          "2017-12-17T00:00:00",
          "2017-12-18T00:00:00",
          "2017-12-19T00:00:00",
          "2017-12-20T00:00:00",
          "2017-12-21T00:00:00",
          "2017-12-22T00:00:00",
          "2017-12-23T00:00:00",
          "2017-12-24T00:00:00",
          "2017-12-25T00:00:00",
          "2017-12-26T00:00:00",
          "2017-12-27T00:00:00",
          "2017-12-28T00:00:00",
          "2017-12-29T00:00:00",
          "2017-12-30T00:00:00",
          "2017-12-31T00:00:00"
         ],
         "y": [
          32573,
          33820,
          57842.4,
          57708.1,
          38260.8,
          52653.5,
          53355.2,
          54447.8,
          48623.5,
          27628.5,
          30360.6,
          33436.9,
          39666.3,
          65840.3,
          66337.8,
          71438.4,
          79454.9,
          76950.9,
          88793.4,
          348339,
          366394,
          343377,
          434562,
          1331690,
          1481080,
          2030590,
          779527,
          289847,
          502151,
          398776,
          407182
         ]
        }
       ],
       "layout": {
        "legend": {
         "tracegroupgap": 0
        },
        "template": {
         "data": {
          "bar": [
           {
            "error_x": {
             "color": "#2a3f5f"
            },
            "error_y": {
             "color": "#2a3f5f"
            },
            "marker": {
             "line": {
              "color": "#E5ECF6",
              "width": 0.5
             },
             "pattern": {
              "fillmode": "overlay",
              "size": 10,
              "solidity": 0.2
             }
            },
            "type": "bar"
           }
          ],
          "barpolar": [
           {
            "marker": {
             "line": {
              "color": "#E5ECF6",
              "width": 0.5
             },
             "pattern": {
              "fillmode": "overlay",
              "size": 10,
              "solidity": 0.2
             }
            },
            "type": "barpolar"
           }
          ],
          "carpet": [
           {
            "aaxis": {
             "endlinecolor": "#2a3f5f",
             "gridcolor": "white",
             "linecolor": "white",
             "minorgridcolor": "white",
             "startlinecolor": "#2a3f5f"
            },
            "baxis": {
             "endlinecolor": "#2a3f5f",
             "gridcolor": "white",
             "linecolor": "white",
             "minorgridcolor": "white",
             "startlinecolor": "#2a3f5f"
            },
            "type": "carpet"
           }
          ],
          "choropleth": [
           {
            "colorbar": {
             "outlinewidth": 0,
             "ticks": ""
            },
            "type": "choropleth"
           }
          ],
          "contour": [
           {
            "colorbar": {
             "outlinewidth": 0,
             "ticks": ""
            },
            "colorscale": [
             [
              0,
              "#0d0887"
             ],
             [
              0.1111111111111111,
              "#46039f"
             ],
             [
              0.2222222222222222,
              "#7201a8"
             ],
             [
              0.3333333333333333,
              "#9c179e"
             ],
             [
              0.4444444444444444,
              "#bd3786"
             ],
             [
              0.5555555555555556,
              "#d8576b"
             ],
             [
              0.6666666666666666,
              "#ed7953"
             ],
             [
              0.7777777777777778,
              "#fb9f3a"
             ],
             [
              0.8888888888888888,
              "#fdca26"
             ],
             [
              1,
              "#f0f921"
             ]
            ],
            "type": "contour"
           }
          ],
          "contourcarpet": [
           {
            "colorbar": {
             "outlinewidth": 0,
             "ticks": ""
            },
            "type": "contourcarpet"
           }
          ],
          "heatmap": [
           {
            "colorbar": {
             "outlinewidth": 0,
             "ticks": ""
            },
            "colorscale": [
             [
              0,
              "#0d0887"
             ],
             [
              0.1111111111111111,
              "#46039f"
             ],
             [
              0.2222222222222222,
              "#7201a8"
             ],
             [
              0.3333333333333333,
              "#9c179e"
             ],
             [
              0.4444444444444444,
              "#bd3786"
             ],
             [
              0.5555555555555556,
              "#d8576b"
             ],
             [
              0.6666666666666666,
              "#ed7953"
             ],
             [
              0.7777777777777778,
              "#fb9f3a"
             ],
             [
              0.8888888888888888,
              "#fdca26"
             ],
             [
              1,
              "#f0f921"
             ]
            ],
            "type": "heatmap"
           }
          ],
          "heatmapgl": [
           {
            "colorbar": {
             "outlinewidth": 0,
             "ticks": ""
            },
            "colorscale": [
             [
              0,
              "#0d0887"
             ],
             [
              0.1111111111111111,
              "#46039f"
             ],
             [
              0.2222222222222222,
              "#7201a8"
             ],
             [
              0.3333333333333333,
              "#9c179e"
             ],
             [
              0.4444444444444444,
              "#bd3786"
             ],
             [
              0.5555555555555556,
              "#d8576b"
             ],
             [
              0.6666666666666666,
              "#ed7953"
             ],
             [
              0.7777777777777778,
              "#fb9f3a"
             ],
             [
              0.8888888888888888,
              "#fdca26"
             ],
             [
              1,
              "#f0f921"
             ]
            ],
            "type": "heatmapgl"
           }
          ],
          "histogram": [
           {
            "marker": {
             "pattern": {
              "fillmode": "overlay",
              "size": 10,
              "solidity": 0.2
             }
            },
            "type": "histogram"
           }
          ],
          "histogram2d": [
           {
            "colorbar": {
             "outlinewidth": 0,
             "ticks": ""
            },
            "colorscale": [
             [
              0,
              "#0d0887"
             ],
             [
              0.1111111111111111,
              "#46039f"
             ],
             [
              0.2222222222222222,
              "#7201a8"
             ],
             [
              0.3333333333333333,
              "#9c179e"
             ],
             [
              0.4444444444444444,
              "#bd3786"
             ],
             [
              0.5555555555555556,
              "#d8576b"
             ],
             [
              0.6666666666666666,
              "#ed7953"
             ],
             [
              0.7777777777777778,
              "#fb9f3a"
             ],
             [
              0.8888888888888888,
              "#fdca26"
             ],
             [
              1,
              "#f0f921"
             ]
            ],
            "type": "histogram2d"
           }
          ],
          "histogram2dcontour": [
           {
            "colorbar": {
             "outlinewidth": 0,
             "ticks": ""
            },
            "colorscale": [
             [
              0,
              "#0d0887"
             ],
             [
              0.1111111111111111,
              "#46039f"
             ],
             [
              0.2222222222222222,
              "#7201a8"
             ],
             [
              0.3333333333333333,
              "#9c179e"
             ],
             [
              0.4444444444444444,
              "#bd3786"
             ],
             [
              0.5555555555555556,
              "#d8576b"
             ],
             [
              0.6666666666666666,
              "#ed7953"
             ],
             [
              0.7777777777777778,
              "#fb9f3a"
             ],
             [
              0.8888888888888888,
              "#fdca26"
             ],
             [
              1,
              "#f0f921"
             ]
            ],
            "type": "histogram2dcontour"
           }
          ],
          "mesh3d": [
           {
            "colorbar": {
             "outlinewidth": 0,
             "ticks": ""
            },
            "type": "mesh3d"
           }
          ],
          "parcoords": [
           {
            "line": {
             "colorbar": {
              "outlinewidth": 0,
              "ticks": ""
             }
            },
            "type": "parcoords"
           }
          ],
          "pie": [
           {
            "automargin": true,
            "type": "pie"
           }
          ],
          "scatter": [
           {
            "marker": {
             "colorbar": {
              "outlinewidth": 0,
              "ticks": ""
             }
            },
            "type": "scatter"
           }
          ],
          "scatter3d": [
           {
            "line": {
             "colorbar": {
              "outlinewidth": 0,
              "ticks": ""
             }
            },
            "marker": {
             "colorbar": {
              "outlinewidth": 0,
              "ticks": ""
             }
            },
            "type": "scatter3d"
           }
          ],
          "scattercarpet": [
           {
            "marker": {
             "colorbar": {
              "outlinewidth": 0,
              "ticks": ""
             }
            },
            "type": "scattercarpet"
           }
          ],
          "scattergeo": [
           {
            "marker": {
             "colorbar": {
              "outlinewidth": 0,
              "ticks": ""
             }
            },
            "type": "scattergeo"
           }
          ],
          "scattergl": [
           {
            "marker": {
             "colorbar": {
              "outlinewidth": 0,
              "ticks": ""
             }
            },
            "type": "scattergl"
           }
          ],
          "scattermapbox": [
           {
            "marker": {
             "colorbar": {
              "outlinewidth": 0,
              "ticks": ""
             }
            },
            "type": "scattermapbox"
           }
          ],
          "scatterpolar": [
           {
            "marker": {
             "colorbar": {
              "outlinewidth": 0,
              "ticks": ""
             }
            },
            "type": "scatterpolar"
           }
          ],
          "scatterpolargl": [
           {
            "marker": {
             "colorbar": {
              "outlinewidth": 0,
              "ticks": ""
             }
            },
            "type": "scatterpolargl"
           }
          ],
          "scatterternary": [
           {
            "marker": {
             "colorbar": {
              "outlinewidth": 0,
              "ticks": ""
             }
            },
            "type": "scatterternary"
           }
          ],
          "surface": [
           {
            "colorbar": {
             "outlinewidth": 0,
             "ticks": ""
            },
            "colorscale": [
             [
              0,
              "#0d0887"
             ],
             [
              0.1111111111111111,
              "#46039f"
             ],
             [
              0.2222222222222222,
              "#7201a8"
             ],
             [
              0.3333333333333333,
              "#9c179e"
             ],
             [
              0.4444444444444444,
              "#bd3786"
             ],
             [
              0.5555555555555556,
              "#d8576b"
             ],
             [
              0.6666666666666666,
              "#ed7953"
             ],
             [
              0.7777777777777778,
              "#fb9f3a"
             ],
             [
              0.8888888888888888,
              "#fdca26"
             ],
             [
              1,
              "#f0f921"
             ]
            ],
            "type": "surface"
           }
          ],
          "table": [
           {
            "cells": {
             "fill": {
              "color": "#EBF0F8"
             },
             "line": {
              "color": "white"
             }
            },
            "header": {
             "fill": {
              "color": "#C8D4E3"
             },
             "line": {
              "color": "white"
             }
            },
            "type": "table"
           }
          ]
         },
         "layout": {
          "annotationdefaults": {
           "arrowcolor": "#2a3f5f",
           "arrowhead": 0,
           "arrowwidth": 1
          },
          "autotypenumbers": "strict",
          "coloraxis": {
           "colorbar": {
            "outlinewidth": 0,
            "ticks": ""
           }
          },
          "colorscale": {
           "diverging": [
            [
             0,
             "#8e0152"
            ],
            [
             0.1,
             "#c51b7d"
            ],
            [
             0.2,
             "#de77ae"
            ],
            [
             0.3,
             "#f1b6da"
            ],
            [
             0.4,
             "#fde0ef"
            ],
            [
             0.5,
             "#f7f7f7"
            ],
            [
             0.6,
             "#e6f5d0"
            ],
            [
             0.7,
             "#b8e186"
            ],
            [
             0.8,
             "#7fbc41"
            ],
            [
             0.9,
             "#4d9221"
            ],
            [
             1,
             "#276419"
            ]
           ],
           "sequential": [
            [
             0,
             "#0d0887"
            ],
            [
             0.1111111111111111,
             "#46039f"
            ],
            [
             0.2222222222222222,
             "#7201a8"
            ],
            [
             0.3333333333333333,
             "#9c179e"
            ],
            [
             0.4444444444444444,
             "#bd3786"
            ],
            [
             0.5555555555555556,
             "#d8576b"
            ],
            [
             0.6666666666666666,
             "#ed7953"
            ],
            [
             0.7777777777777778,
             "#fb9f3a"
            ],
            [
             0.8888888888888888,
             "#fdca26"
            ],
            [
             1,
             "#f0f921"
            ]
           ],
           "sequentialminus": [
            [
             0,
             "#0d0887"
            ],
            [
             0.1111111111111111,
             "#46039f"
            ],
            [
             0.2222222222222222,
             "#7201a8"
            ],
            [
             0.3333333333333333,
             "#9c179e"
            ],
            [
             0.4444444444444444,
             "#bd3786"
            ],
            [
             0.5555555555555556,
             "#d8576b"
            ],
            [
             0.6666666666666666,
             "#ed7953"
            ],
            [
             0.7777777777777778,
             "#fb9f3a"
            ],
            [
             0.8888888888888888,
             "#fdca26"
            ],
            [
             1,
             "#f0f921"
            ]
           ]
          },
          "colorway": [
           "#636efa",
           "#EF553B",
           "#00cc96",
           "#ab63fa",
           "#FFA15A",
           "#19d3f3",
           "#FF6692",
           "#B6E880",
           "#FF97FF",
           "#FECB52"
          ],
          "font": {
           "color": "#2a3f5f"
          },
          "geo": {
           "bgcolor": "white",
           "lakecolor": "white",
           "landcolor": "#E5ECF6",
           "showlakes": true,
           "showland": true,
           "subunitcolor": "white"
          },
          "hoverlabel": {
           "align": "left"
          },
          "hovermode": "closest",
          "mapbox": {
           "style": "light"
          },
          "paper_bgcolor": "white",
          "plot_bgcolor": "#E5ECF6",
          "polar": {
           "angularaxis": {
            "gridcolor": "white",
            "linecolor": "white",
            "ticks": ""
           },
           "bgcolor": "#E5ECF6",
           "radialaxis": {
            "gridcolor": "white",
            "linecolor": "white",
            "ticks": ""
           }
          },
          "scene": {
           "xaxis": {
            "backgroundcolor": "#E5ECF6",
            "gridcolor": "white",
            "gridwidth": 2,
            "linecolor": "white",
            "showbackground": true,
            "ticks": "",
            "zerolinecolor": "white"
           },
           "yaxis": {
            "backgroundcolor": "#E5ECF6",
            "gridcolor": "white",
            "gridwidth": 2,
            "linecolor": "white",
            "showbackground": true,
            "ticks": "",
            "zerolinecolor": "white"
           },
           "zaxis": {
            "backgroundcolor": "#E5ECF6",
            "gridcolor": "white",
            "gridwidth": 2,
            "linecolor": "white",
            "showbackground": true,
            "ticks": "",
            "zerolinecolor": "white"
           }
          },
          "shapedefaults": {
           "line": {
            "color": "#2a3f5f"
           }
          },
          "ternary": {
           "aaxis": {
            "gridcolor": "white",
            "linecolor": "white",
            "ticks": ""
           },
           "baxis": {
            "gridcolor": "white",
            "linecolor": "white",
            "ticks": ""
           },
           "bgcolor": "#E5ECF6",
           "caxis": {
            "gridcolor": "white",
            "linecolor": "white",
            "ticks": ""
           }
          },
          "title": {
           "x": 0.05
          },
          "xaxis": {
           "automargin": true,
           "gridcolor": "white",
           "linecolor": "white",
           "ticks": "",
           "title": {
            "standoff": 15
           },
           "zerolinecolor": "white",
           "zerolinewidth": 2
          },
          "yaxis": {
           "automargin": true,
           "gridcolor": "white",
           "linecolor": "white",
           "ticks": "",
           "title": {
            "standoff": 15
           },
           "zerolinecolor": "white",
           "zerolinewidth": 2
          }
         }
        },
        "title": {
         "text": "most fallen coin difference"
        },
        "xaxis": {
         "anchor": "y",
         "domain": [
          0,
          1
         ],
         "title": {
          "text": "date"
         }
        },
        "yaxis": {
         "anchor": "x",
         "domain": [
          0,
          1
         ],
         "title": {
          "text": "differnce"
         }
        }
       }
      },
      "text/html": [
       "<div>                            <div id=\"1dc56ce5-3d86-44bf-98c0-202394fbca5a\" class=\"plotly-graph-div\" style=\"height:525px; width:100%;\"></div>            <script type=\"text/javascript\">                require([\"plotly\"], function(Plotly) {                    window.PLOTLYENV=window.PLOTLYENV || {};                                    if (document.getElementById(\"1dc56ce5-3d86-44bf-98c0-202394fbca5a\")) {                    Plotly.newPlot(                        \"1dc56ce5-3d86-44bf-98c0-202394fbca5a\",                        [{\"hovertemplate\":\"date=%{x}<br>differnce=%{y}<extra></extra>\",\"legendgroup\":\"\",\"line\":{\"color\":\"#636efa\",\"dash\":\"solid\"},\"marker\":{\"symbol\":\"circle\"},\"mode\":\"lines\",\"name\":\"\",\"orientation\":\"v\",\"showlegend\":false,\"type\":\"scatter\",\"x\":[\"2017-12-01T00:00:00\",\"2017-12-02T00:00:00\",\"2017-12-03T00:00:00\",\"2017-12-04T00:00:00\",\"2017-12-05T00:00:00\",\"2017-12-06T00:00:00\",\"2017-12-07T00:00:00\",\"2017-12-08T00:00:00\",\"2017-12-09T00:00:00\",\"2017-12-10T00:00:00\",\"2017-12-11T00:00:00\",\"2017-12-12T00:00:00\",\"2017-12-13T00:00:00\",\"2017-12-14T00:00:00\",\"2017-12-15T00:00:00\",\"2017-12-16T00:00:00\",\"2017-12-17T00:00:00\",\"2017-12-18T00:00:00\",\"2017-12-19T00:00:00\",\"2017-12-20T00:00:00\",\"2017-12-21T00:00:00\",\"2017-12-22T00:00:00\",\"2017-12-23T00:00:00\",\"2017-12-24T00:00:00\",\"2017-12-25T00:00:00\",\"2017-12-26T00:00:00\",\"2017-12-27T00:00:00\",\"2017-12-28T00:00:00\",\"2017-12-29T00:00:00\",\"2017-12-30T00:00:00\",\"2017-12-31T00:00:00\"],\"xaxis\":\"x\",\"y\":[33101.5,46967.100000000006,20590.4,29696.200000000004,23730.1,14863.0,16196.400000000009,24401.199999999997,25483.0,26356.199999999997,3475.800000000003,34864.6,44325.399999999994,24597.699999999997,24035.399999999994,116816.6,41300.100000000006,18635.800000000003,1674006.6,1017231.0,370622.0,318255.0,1240998.0,1301600.0,1227220.0,895510.0,1770563.0,927503.0,532619.0,405004.0,110442.0],\"yaxis\":\"y\"},{\"mode\":\"lines\",\"type\":\"scatter\",\"x\":[\"2017-12-01T00:00:00\",\"2017-12-02T00:00:00\",\"2017-12-03T00:00:00\",\"2017-12-04T00:00:00\",\"2017-12-05T00:00:00\",\"2017-12-06T00:00:00\",\"2017-12-07T00:00:00\",\"2017-12-08T00:00:00\",\"2017-12-09T00:00:00\",\"2017-12-10T00:00:00\",\"2017-12-11T00:00:00\",\"2017-12-12T00:00:00\",\"2017-12-13T00:00:00\",\"2017-12-14T00:00:00\",\"2017-12-15T00:00:00\",\"2017-12-16T00:00:00\",\"2017-12-17T00:00:00\",\"2017-12-18T00:00:00\",\"2017-12-19T00:00:00\",\"2017-12-20T00:00:00\",\"2017-12-21T00:00:00\",\"2017-12-22T00:00:00\",\"2017-12-23T00:00:00\",\"2017-12-24T00:00:00\",\"2017-12-25T00:00:00\",\"2017-12-26T00:00:00\",\"2017-12-27T00:00:00\",\"2017-12-28T00:00:00\",\"2017-12-29T00:00:00\",\"2017-12-30T00:00:00\",\"2017-12-31T00:00:00\"],\"y\":[65674.5,80787.1,78432.8,87404.3,61990.9,67516.5,69551.6,78849.0,74106.5,53984.7,33836.4,68301.5,83991.7,90438.0,90373.2,188255.0,120755.0,95586.7,1762800.0,1365570.0,737016.0,661632.0,1675560.0,2633290.0,2708300.0,2926100.0,2550090.0,1217350.0,1034770.0,803780.0,517624.0]},{\"mode\":\"lines\",\"type\":\"scatter\",\"x\":[\"2017-12-01T00:00:00\",\"2017-12-02T00:00:00\",\"2017-12-03T00:00:00\",\"2017-12-04T00:00:00\",\"2017-12-05T00:00:00\",\"2017-12-06T00:00:00\",\"2017-12-07T00:00:00\",\"2017-12-08T00:00:00\",\"2017-12-09T00:00:00\",\"2017-12-10T00:00:00\",\"2017-12-11T00:00:00\",\"2017-12-12T00:00:00\",\"2017-12-13T00:00:00\",\"2017-12-14T00:00:00\",\"2017-12-15T00:00:00\",\"2017-12-16T00:00:00\",\"2017-12-17T00:00:00\",\"2017-12-18T00:00:00\",\"2017-12-19T00:00:00\",\"2017-12-20T00:00:00\",\"2017-12-21T00:00:00\",\"2017-12-22T00:00:00\",\"2017-12-23T00:00:00\",\"2017-12-24T00:00:00\",\"2017-12-25T00:00:00\",\"2017-12-26T00:00:00\",\"2017-12-27T00:00:00\",\"2017-12-28T00:00:00\",\"2017-12-29T00:00:00\",\"2017-12-30T00:00:00\",\"2017-12-31T00:00:00\"],\"y\":[32573.0,33820.0,57842.4,57708.1,38260.8,52653.5,53355.2,54447.8,48623.5,27628.5,30360.6,33436.9,39666.3,65840.3,66337.8,71438.4,79454.9,76950.9,88793.4,348339.0,366394.0,343377.0,434562.0,1331690.0,1481080.0,2030590.0,779527.0,289847.0,502151.0,398776.0,407182.0]}],                        {\"legend\":{\"tracegroupgap\":0},\"template\":{\"data\":{\"bar\":[{\"error_x\":{\"color\":\"#2a3f5f\"},\"error_y\":{\"color\":\"#2a3f5f\"},\"marker\":{\"line\":{\"color\":\"#E5ECF6\",\"width\":0.5},\"pattern\":{\"fillmode\":\"overlay\",\"size\":10,\"solidity\":0.2}},\"type\":\"bar\"}],\"barpolar\":[{\"marker\":{\"line\":{\"color\":\"#E5ECF6\",\"width\":0.5},\"pattern\":{\"fillmode\":\"overlay\",\"size\":10,\"solidity\":0.2}},\"type\":\"barpolar\"}],\"carpet\":[{\"aaxis\":{\"endlinecolor\":\"#2a3f5f\",\"gridcolor\":\"white\",\"linecolor\":\"white\",\"minorgridcolor\":\"white\",\"startlinecolor\":\"#2a3f5f\"},\"baxis\":{\"endlinecolor\":\"#2a3f5f\",\"gridcolor\":\"white\",\"linecolor\":\"white\",\"minorgridcolor\":\"white\",\"startlinecolor\":\"#2a3f5f\"},\"type\":\"carpet\"}],\"choropleth\":[{\"colorbar\":{\"outlinewidth\":0,\"ticks\":\"\"},\"type\":\"choropleth\"}],\"contour\":[{\"colorbar\":{\"outlinewidth\":0,\"ticks\":\"\"},\"colorscale\":[[0.0,\"#0d0887\"],[0.1111111111111111,\"#46039f\"],[0.2222222222222222,\"#7201a8\"],[0.3333333333333333,\"#9c179e\"],[0.4444444444444444,\"#bd3786\"],[0.5555555555555556,\"#d8576b\"],[0.6666666666666666,\"#ed7953\"],[0.7777777777777778,\"#fb9f3a\"],[0.8888888888888888,\"#fdca26\"],[1.0,\"#f0f921\"]],\"type\":\"contour\"}],\"contourcarpet\":[{\"colorbar\":{\"outlinewidth\":0,\"ticks\":\"\"},\"type\":\"contourcarpet\"}],\"heatmap\":[{\"colorbar\":{\"outlinewidth\":0,\"ticks\":\"\"},\"colorscale\":[[0.0,\"#0d0887\"],[0.1111111111111111,\"#46039f\"],[0.2222222222222222,\"#7201a8\"],[0.3333333333333333,\"#9c179e\"],[0.4444444444444444,\"#bd3786\"],[0.5555555555555556,\"#d8576b\"],[0.6666666666666666,\"#ed7953\"],[0.7777777777777778,\"#fb9f3a\"],[0.8888888888888888,\"#fdca26\"],[1.0,\"#f0f921\"]],\"type\":\"heatmap\"}],\"heatmapgl\":[{\"colorbar\":{\"outlinewidth\":0,\"ticks\":\"\"},\"colorscale\":[[0.0,\"#0d0887\"],[0.1111111111111111,\"#46039f\"],[0.2222222222222222,\"#7201a8\"],[0.3333333333333333,\"#9c179e\"],[0.4444444444444444,\"#bd3786\"],[0.5555555555555556,\"#d8576b\"],[0.6666666666666666,\"#ed7953\"],[0.7777777777777778,\"#fb9f3a\"],[0.8888888888888888,\"#fdca26\"],[1.0,\"#f0f921\"]],\"type\":\"heatmapgl\"}],\"histogram\":[{\"marker\":{\"pattern\":{\"fillmode\":\"overlay\",\"size\":10,\"solidity\":0.2}},\"type\":\"histogram\"}],\"histogram2d\":[{\"colorbar\":{\"outlinewidth\":0,\"ticks\":\"\"},\"colorscale\":[[0.0,\"#0d0887\"],[0.1111111111111111,\"#46039f\"],[0.2222222222222222,\"#7201a8\"],[0.3333333333333333,\"#9c179e\"],[0.4444444444444444,\"#bd3786\"],[0.5555555555555556,\"#d8576b\"],[0.6666666666666666,\"#ed7953\"],[0.7777777777777778,\"#fb9f3a\"],[0.8888888888888888,\"#fdca26\"],[1.0,\"#f0f921\"]],\"type\":\"histogram2d\"}],\"histogram2dcontour\":[{\"colorbar\":{\"outlinewidth\":0,\"ticks\":\"\"},\"colorscale\":[[0.0,\"#0d0887\"],[0.1111111111111111,\"#46039f\"],[0.2222222222222222,\"#7201a8\"],[0.3333333333333333,\"#9c179e\"],[0.4444444444444444,\"#bd3786\"],[0.5555555555555556,\"#d8576b\"],[0.6666666666666666,\"#ed7953\"],[0.7777777777777778,\"#fb9f3a\"],[0.8888888888888888,\"#fdca26\"],[1.0,\"#f0f921\"]],\"type\":\"histogram2dcontour\"}],\"mesh3d\":[{\"colorbar\":{\"outlinewidth\":0,\"ticks\":\"\"},\"type\":\"mesh3d\"}],\"parcoords\":[{\"line\":{\"colorbar\":{\"outlinewidth\":0,\"ticks\":\"\"}},\"type\":\"parcoords\"}],\"pie\":[{\"automargin\":true,\"type\":\"pie\"}],\"scatter\":[{\"marker\":{\"colorbar\":{\"outlinewidth\":0,\"ticks\":\"\"}},\"type\":\"scatter\"}],\"scatter3d\":[{\"line\":{\"colorbar\":{\"outlinewidth\":0,\"ticks\":\"\"}},\"marker\":{\"colorbar\":{\"outlinewidth\":0,\"ticks\":\"\"}},\"type\":\"scatter3d\"}],\"scattercarpet\":[{\"marker\":{\"colorbar\":{\"outlinewidth\":0,\"ticks\":\"\"}},\"type\":\"scattercarpet\"}],\"scattergeo\":[{\"marker\":{\"colorbar\":{\"outlinewidth\":0,\"ticks\":\"\"}},\"type\":\"scattergeo\"}],\"scattergl\":[{\"marker\":{\"colorbar\":{\"outlinewidth\":0,\"ticks\":\"\"}},\"type\":\"scattergl\"}],\"scattermapbox\":[{\"marker\":{\"colorbar\":{\"outlinewidth\":0,\"ticks\":\"\"}},\"type\":\"scattermapbox\"}],\"scatterpolar\":[{\"marker\":{\"colorbar\":{\"outlinewidth\":0,\"ticks\":\"\"}},\"type\":\"scatterpolar\"}],\"scatterpolargl\":[{\"marker\":{\"colorbar\":{\"outlinewidth\":0,\"ticks\":\"\"}},\"type\":\"scatterpolargl\"}],\"scatterternary\":[{\"marker\":{\"colorbar\":{\"outlinewidth\":0,\"ticks\":\"\"}},\"type\":\"scatterternary\"}],\"surface\":[{\"colorbar\":{\"outlinewidth\":0,\"ticks\":\"\"},\"colorscale\":[[0.0,\"#0d0887\"],[0.1111111111111111,\"#46039f\"],[0.2222222222222222,\"#7201a8\"],[0.3333333333333333,\"#9c179e\"],[0.4444444444444444,\"#bd3786\"],[0.5555555555555556,\"#d8576b\"],[0.6666666666666666,\"#ed7953\"],[0.7777777777777778,\"#fb9f3a\"],[0.8888888888888888,\"#fdca26\"],[1.0,\"#f0f921\"]],\"type\":\"surface\"}],\"table\":[{\"cells\":{\"fill\":{\"color\":\"#EBF0F8\"},\"line\":{\"color\":\"white\"}},\"header\":{\"fill\":{\"color\":\"#C8D4E3\"},\"line\":{\"color\":\"white\"}},\"type\":\"table\"}]},\"layout\":{\"annotationdefaults\":{\"arrowcolor\":\"#2a3f5f\",\"arrowhead\":0,\"arrowwidth\":1},\"autotypenumbers\":\"strict\",\"coloraxis\":{\"colorbar\":{\"outlinewidth\":0,\"ticks\":\"\"}},\"colorscale\":{\"diverging\":[[0,\"#8e0152\"],[0.1,\"#c51b7d\"],[0.2,\"#de77ae\"],[0.3,\"#f1b6da\"],[0.4,\"#fde0ef\"],[0.5,\"#f7f7f7\"],[0.6,\"#e6f5d0\"],[0.7,\"#b8e186\"],[0.8,\"#7fbc41\"],[0.9,\"#4d9221\"],[1,\"#276419\"]],\"sequential\":[[0.0,\"#0d0887\"],[0.1111111111111111,\"#46039f\"],[0.2222222222222222,\"#7201a8\"],[0.3333333333333333,\"#9c179e\"],[0.4444444444444444,\"#bd3786\"],[0.5555555555555556,\"#d8576b\"],[0.6666666666666666,\"#ed7953\"],[0.7777777777777778,\"#fb9f3a\"],[0.8888888888888888,\"#fdca26\"],[1.0,\"#f0f921\"]],\"sequentialminus\":[[0.0,\"#0d0887\"],[0.1111111111111111,\"#46039f\"],[0.2222222222222222,\"#7201a8\"],[0.3333333333333333,\"#9c179e\"],[0.4444444444444444,\"#bd3786\"],[0.5555555555555556,\"#d8576b\"],[0.6666666666666666,\"#ed7953\"],[0.7777777777777778,\"#fb9f3a\"],[0.8888888888888888,\"#fdca26\"],[1.0,\"#f0f921\"]]},\"colorway\":[\"#636efa\",\"#EF553B\",\"#00cc96\",\"#ab63fa\",\"#FFA15A\",\"#19d3f3\",\"#FF6692\",\"#B6E880\",\"#FF97FF\",\"#FECB52\"],\"font\":{\"color\":\"#2a3f5f\"},\"geo\":{\"bgcolor\":\"white\",\"lakecolor\":\"white\",\"landcolor\":\"#E5ECF6\",\"showlakes\":true,\"showland\":true,\"subunitcolor\":\"white\"},\"hoverlabel\":{\"align\":\"left\"},\"hovermode\":\"closest\",\"mapbox\":{\"style\":\"light\"},\"paper_bgcolor\":\"white\",\"plot_bgcolor\":\"#E5ECF6\",\"polar\":{\"angularaxis\":{\"gridcolor\":\"white\",\"linecolor\":\"white\",\"ticks\":\"\"},\"bgcolor\":\"#E5ECF6\",\"radialaxis\":{\"gridcolor\":\"white\",\"linecolor\":\"white\",\"ticks\":\"\"}},\"scene\":{\"xaxis\":{\"backgroundcolor\":\"#E5ECF6\",\"gridcolor\":\"white\",\"gridwidth\":2,\"linecolor\":\"white\",\"showbackground\":true,\"ticks\":\"\",\"zerolinecolor\":\"white\"},\"yaxis\":{\"backgroundcolor\":\"#E5ECF6\",\"gridcolor\":\"white\",\"gridwidth\":2,\"linecolor\":\"white\",\"showbackground\":true,\"ticks\":\"\",\"zerolinecolor\":\"white\"},\"zaxis\":{\"backgroundcolor\":\"#E5ECF6\",\"gridcolor\":\"white\",\"gridwidth\":2,\"linecolor\":\"white\",\"showbackground\":true,\"ticks\":\"\",\"zerolinecolor\":\"white\"}},\"shapedefaults\":{\"line\":{\"color\":\"#2a3f5f\"}},\"ternary\":{\"aaxis\":{\"gridcolor\":\"white\",\"linecolor\":\"white\",\"ticks\":\"\"},\"baxis\":{\"gridcolor\":\"white\",\"linecolor\":\"white\",\"ticks\":\"\"},\"bgcolor\":\"#E5ECF6\",\"caxis\":{\"gridcolor\":\"white\",\"linecolor\":\"white\",\"ticks\":\"\"}},\"title\":{\"x\":0.05},\"xaxis\":{\"automargin\":true,\"gridcolor\":\"white\",\"linecolor\":\"white\",\"ticks\":\"\",\"title\":{\"standoff\":15},\"zerolinecolor\":\"white\",\"zerolinewidth\":2},\"yaxis\":{\"automargin\":true,\"gridcolor\":\"white\",\"linecolor\":\"white\",\"ticks\":\"\",\"title\":{\"standoff\":15},\"zerolinecolor\":\"white\",\"zerolinewidth\":2}}},\"title\":{\"text\":\"most fallen coin difference\"},\"xaxis\":{\"anchor\":\"y\",\"domain\":[0.0,1.0],\"title\":{\"text\":\"date\"}},\"yaxis\":{\"anchor\":\"x\",\"domain\":[0.0,1.0],\"title\":{\"text\":\"differnce\"}}},                        {\"responsive\": true}                    ).then(function(){\n",
       "                            \n",
       "var gd = document.getElementById('1dc56ce5-3d86-44bf-98c0-202394fbca5a');\n",
       "var x = new MutationObserver(function (mutations, observer) {{\n",
       "        var display = window.getComputedStyle(gd).display;\n",
       "        if (!display || display === 'none') {{\n",
       "            console.log([gd, 'removed!']);\n",
       "            Plotly.purge(gd);\n",
       "            observer.disconnect();\n",
       "        }}\n",
       "}});\n",
       "\n",
       "// Listen for the removal of the full notebook cells\n",
       "var notebookContainer = gd.closest('#notebook-container');\n",
       "if (notebookContainer) {{\n",
       "    x.observe(notebookContainer, {childList: true});\n",
       "}}\n",
       "\n",
       "// Listen for the clearing of the current output cell\n",
       "var outputEl = gd.closest('.output');\n",
       "if (outputEl) {{\n",
       "    x.observe(outputEl, {childList: true});\n",
       "}}\n",
       "\n",
       "                        })                };                });            </script>        </div>"
      ]
     },
     "metadata": {},
     "output_type": "display_data"
    }
   ],
   "source": [
    "fig = px.line(most_fell_coin_dropped, x=\"date\", y=\"differnce\", title='most fallen coin difference')\n",
    "fig.add_scatter(x=most_fell_coin_dropped['date'], y=most_fell_coin_dropped['high'], mode='lines')\n",
    "fig.add_scatter(x=most_fell_coin_dropped['date'], y=most_fell_coin_dropped['low'], mode='lines')\n",
    "fig.show()"
   ]
  },
  {
   "cell_type": "code",
   "execution_count": null,
   "id": "71c2fb6d",
   "metadata": {},
   "outputs": [],
   "source": []
  },
  {
   "cell_type": "code",
   "execution_count": 66,
   "id": "41850f0c",
   "metadata": {},
   "outputs": [
    {
     "data": {
      "image/png": "[encoded data removed]",
      "text/plain": [
       "<Figure size 432x288 with 1 Axes>"
      ]
     },
     "metadata": {
      "needs_background": "light"
     },
     "output_type": "display_data"
    }
   ],
   "source": [
    "plt.plot(most_fell_coin_dropped['date'], most_fell_coin_dropped['differnce'], 'b', label='High - Low')\n",
    "\n",
    "# Plot another line on the same chart/graph\n",
    "plt.plot(most_fell_coin_dropped['date'], most_fell_coin_dropped['high'], 'g', label='High')\n",
    "plt.plot(most_fell_coin_dropped['date'], most_fell_coin_dropped['low'], 'r', label='Low')\n",
    "\n",
    "plt.legend()\n",
    "plt.show()"
   ]
  },
  {
   "cell_type": "code",
   "execution_count": null,
   "id": "bcb46fe9",
   "metadata": {},
   "outputs": [],
   "source": []
  }
 ],
 "metadata": {
  "kernelspec": {
   "display_name": "Python 3",
   "language": "python",
   "name": "python3"
  },
  "language_info": {
   "codemirror_mode": {
    "name": "ipython",
    "version": 3
   },
   "file_extension": ".py",
   "mimetype": "text/x-python",
   "name": "python",
   "nbconvert_exporter": "python",
   "pygments_lexer": "ipython3",
   "version": "3.8.8"
  }
 },
 "nbformat": 4,
 "nbformat_minor": 5
}
