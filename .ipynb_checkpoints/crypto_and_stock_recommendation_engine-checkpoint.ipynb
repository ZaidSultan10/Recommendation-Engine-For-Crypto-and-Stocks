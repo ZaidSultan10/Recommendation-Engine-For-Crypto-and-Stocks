{
 "cells": [
  {
   "cell_type": "code",
   "execution_count": 1,
   "id": "e85f3bdf",
   "metadata": {},
   "outputs": [],
   "source": [
    "#GATHER DATASETS\n",
    "#LOAD DATASETS\n",
    "#GATHER QUESTIONS TO WHICH WE NEED ANSWERS\n",
    "#MAKE VISUALIZATIONS ON POWER BI\n",
    "#MAKE ML MODEL\n",
    "#PUBLISH"
   ]
  },
  {
   "cell_type": "code",
   "execution_count": 4,
   "id": "d7bf8635",
   "metadata": {},
   "outputs": [],
   "source": [
    "#Q1 Most top rated crypto\n",
    "#Q2 falls latest date"
   ]
  },
  {
   "cell_type": "code",
   "execution_count": 2,
   "id": "123f1789",
   "metadata": {},
   "outputs": [],
   "source": [
    "import pandas as pd\n",
    "import numpy as np \n",
    "import matplotlib.pyplot as plt\n",
    "import seaborn as sns\n",
    "import plotly.express as px\n",
    "import warnings\n",
    "warnings.filterwarnings(\"ignore\")"
   ]
  },
  {
   "cell_type": "code",
   "execution_count": null,
   "id": "6108cd6e",
   "metadata": {},
   "outputs": [],
   "source": []
  }
 ],
 "metadata": {
  "kernelspec": {
   "display_name": "Python 3",
   "language": "python",
   "name": "python3"
  },
  "language_info": {
   "codemirror_mode": {
    "name": "ipython",
    "version": 3
   },
   "file_extension": ".py",
   "mimetype": "text/x-python",
   "name": "python",
   "nbconvert_exporter": "python",
   "pygments_lexer": "ipython3",
   "version": "3.8.8"
  }
 },
 "nbformat": 4,
 "nbformat_minor": 5
}
