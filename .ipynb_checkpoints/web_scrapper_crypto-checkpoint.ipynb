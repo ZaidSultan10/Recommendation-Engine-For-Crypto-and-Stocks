{
 "cells": [
  {
   "cell_type": "code",
   "execution_count": 1,
   "id": "3858e8cf",
   "metadata": {},
   "outputs": [],
   "source": [
    "#WEB SCRAPPER FOR CRYPTO DATA"
   ]
  },
  {
   "cell_type": "code",
   "execution_count": 2,
   "id": "69b59b46",
   "metadata": {},
   "outputs": [],
   "source": [
    "from bs4 import BeautifulSoup"
   ]
  },
  {
   "cell_type": "code",
   "execution_count": 3,
   "id": "a5812c7b",
   "metadata": {},
   "outputs": [],
   "source": [
    "import requests"
   ]
  },
  {
   "cell_type": "code",
   "execution_count": 4,
   "id": "d4c56a05",
   "metadata": {},
   "outputs": [],
   "source": [
    "from csv import writer"
   ]
  },
  {
   "cell_type": "code",
   "execution_count": 5,
   "id": "b8757056",
   "metadata": {},
   "outputs": [],
   "source": [
    "import pandas as pd"
   ]
  },
  {
   "cell_type": "code",
   "execution_count": 6,
   "id": "7728e513",
   "metadata": {},
   "outputs": [],
   "source": [
    "import numpy as np"
   ]
  },
  {
   "cell_type": "code",
   "execution_count": 7,
   "id": "df4a94be",
   "metadata": {},
   "outputs": [],
   "source": [
    "headers = {'Accept-Language':'en-US,en;q=0.5'}"
   ]
  },
  {
   "cell_type": "code",
   "execution_count": 8,
   "id": "83481b85",
   "metadata": {},
   "outputs": [],
   "source": [
    "url = 'https://coinmarketcap.com/?page='"
   ]
  },
  {
   "cell_type": "code",
   "execution_count": 9,
   "id": "46ce26c1",
   "metadata": {},
   "outputs": [],
   "source": [
    "pages = np.arange(1,77)"
   ]
  },
  {
   "cell_type": "code",
   "execution_count": 28,
   "id": "f228d6d4",
   "metadata": {},
   "outputs": [],
   "source": [
    "y= []\n",
    "with open('latest_crypto_data_22_11_2021.csv','w',encoding='utf8', newline='') as f:\n",
    "    theWriter = writer(f)\n",
    "    for page in range(0,1):\n",
    "            fullUrl = url + str(page)\n",
    "            urlRequest = requests.get(fullUrl)\n",
    "            soup = BeautifulSoup(urlRequest.content,'html.parser')\n",
    "            \n",
    "            headings = soup.find_all('p',class_='iKUzJY')\n",
    "            for heading in headings:\n",
    "                x = heading.text.replace('\\n','')\n",
    "                y.append(x)\n",
    "            theWriter.writerow(y)"
   ]
  },
  {
   "cell_type": "code",
   "execution_count": 35,
   "id": "126ebe24",
   "metadata": {},
   "outputs": [
    {
     "ename": "AttributeError",
     "evalue": "'NoneType' object has no attribute 'find'",
     "output_type": "error",
     "traceback": [
      "\u001b[1;31m---------------------------------------------------------------------------\u001b[0m",
      "\u001b[1;31mAttributeError\u001b[0m                            Traceback (most recent call last)",
      "\u001b[1;32m<ipython-input-35-436c5c175cf6>\u001b[0m in \u001b[0;36m<module>\u001b[1;34m\u001b[0m\n\u001b[0;32m     14\u001b[0m \u001b[1;33m\u001b[0m\u001b[0m\n\u001b[0;32m     15\u001b[0m                 \u001b[0mcoin_div\u001b[0m \u001b[1;33m=\u001b[0m \u001b[0mdata\u001b[0m\u001b[1;33m.\u001b[0m\u001b[0mfind\u001b[0m\u001b[1;33m(\u001b[0m\u001b[1;34m'div'\u001b[0m\u001b[1;33m,\u001b[0m\u001b[0mclass_\u001b[0m\u001b[1;33m=\u001b[0m\u001b[1;34m'escjiH'\u001b[0m\u001b[1;33m)\u001b[0m\u001b[1;33m\u001b[0m\u001b[1;33m\u001b[0m\u001b[0m\n\u001b[1;32m---> 16\u001b[1;33m                 \u001b[0mcoin_div2\u001b[0m \u001b[1;33m=\u001b[0m \u001b[0mcoin_div\u001b[0m\u001b[1;33m.\u001b[0m\u001b[0mfind\u001b[0m\u001b[1;33m(\u001b[0m\u001b[1;34m'a'\u001b[0m\u001b[1;33m)\u001b[0m\u001b[1;33m\u001b[0m\u001b[1;33m\u001b[0m\u001b[0m\n\u001b[0m\u001b[0;32m     17\u001b[0m                 \u001b[0mcoin_div3\u001b[0m \u001b[1;33m=\u001b[0m \u001b[0mcoin_div2\u001b[0m\u001b[1;33m.\u001b[0m\u001b[0mfind\u001b[0m\u001b[1;33m(\u001b[0m\u001b[1;34m'div'\u001b[0m\u001b[1;33m,\u001b[0m \u001b[0mclass_\u001b[0m\u001b[1;33m=\u001b[0m\u001b[1;34m'dBKWCw'\u001b[0m\u001b[1;33m)\u001b[0m\u001b[1;33m\u001b[0m\u001b[1;33m\u001b[0m\u001b[0m\n\u001b[0;32m     18\u001b[0m                 \u001b[0mcoin_div4\u001b[0m \u001b[1;33m=\u001b[0m \u001b[0mcoin_div3\u001b[0m\u001b[1;33m.\u001b[0m\u001b[0mfind\u001b[0m\u001b[1;33m(\u001b[0m\u001b[1;34m'div'\u001b[0m\u001b[1;33m,\u001b[0m \u001b[0mclass_\u001b[0m\u001b[1;33m=\u001b[0m\u001b[1;34m'dNOTPP'\u001b[0m\u001b[1;33m)\u001b[0m\u001b[1;33m\u001b[0m\u001b[1;33m\u001b[0m\u001b[0m\n",
      "\u001b[1;31mAttributeError\u001b[0m: 'NoneType' object has no attribute 'find'"
     ]
    }
   ],
   "source": [
    "with open('latest_crypto_data_22_11_2021_sample.csv','w',encoding='utf8', newline='') as f:\n",
    "    theWriter = writer(f)\n",
    "    for page in pages:\n",
    "        fullUrl = url + str(page)\n",
    "        urlRequest = requests.get(fullUrl)\n",
    "        soup = BeautifulSoup(urlRequest.content,'html.parser')\n",
    "        \n",
    "        full_body = soup.find('tbody')\n",
    "        full_content = full_body.find_all('tr')\n",
    "        for cont in full_content:\n",
    "            table_data = cont.find_all('td')\n",
    "            for data in table_data:\n",
    "                coin_id = data.find('p',class_ = 'etpvrL').text.replace('\\n','') \n",
    "                \n",
    "                coin_div = data.find('div',class_='escjiH')\n",
    "                coin_div2 = coin_div.find('a')\n",
    "                coin_div3 = coin_div2.find('div', class_='dBKWCw')\n",
    "                coin_div4 = coin_div3.find('div', class_='dNOTPP')\n",
    "                coin_name = coin_div4.find('p', class_ = 'iworPT').text.replace('\\n','')\n",
    "                \n",
    "                coin_price_div = data.find('div',class_='cLgOOr')\n",
    "                coin_price_div2 = coin_price_div.find('a')\n",
    "                coin_price = coin_price_div2.find('span').text.replace('\\n','')\n",
    "                \n",
    "                info = [coin_id,coin_name,coin_price]\n",
    "                theWriter.writerow(info)"
   ]
  },
  {
   "cell_type": "code",
   "execution_count": null,
   "id": "05705b4b",
   "metadata": {},
   "outputs": [],
   "source": []
  }
 ],
 "metadata": {
  "kernelspec": {
   "display_name": "Python 3",
   "language": "python",
   "name": "python3"
  },
  "language_info": {
   "codemirror_mode": {
    "name": "ipython",
    "version": 3
   },
   "file_extension": ".py",
   "mimetype": "text/x-python",
   "name": "python",
   "nbconvert_exporter": "python",
   "pygments_lexer": "ipython3",
   "version": "3.8.8"
  }
 },
 "nbformat": 4,
 "nbformat_minor": 5
}
