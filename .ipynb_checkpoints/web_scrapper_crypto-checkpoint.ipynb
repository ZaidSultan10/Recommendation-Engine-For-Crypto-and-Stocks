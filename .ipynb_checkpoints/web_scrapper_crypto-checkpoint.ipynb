{
 "cells": [
  {
   "cell_type": "code",
   "execution_count": 1,
   "id": "59ba8288",
   "metadata": {},
   "outputs": [],
   "source": [
    "#WEB SCRAPPER FOR CRYPTO DATA"
   ]
  },
  {
   "cell_type": "code",
   "execution_count": 2,
   "id": "f870f715",
   "metadata": {},
   "outputs": [],
   "source": [
    "from bs4 import BeautifulSoup"
   ]
  },
  {
   "cell_type": "code",
   "execution_count": 3,
   "id": "0f8d28db",
   "metadata": {},
   "outputs": [],
   "source": [
    "import requests"
   ]
  },
  {
   "cell_type": "code",
   "execution_count": 4,
   "id": "363a0ae4",
   "metadata": {},
   "outputs": [],
   "source": [
    "from csv import writer"
   ]
  },
  {
   "cell_type": "code",
   "execution_count": 5,
   "id": "bfc47158",
   "metadata": {},
   "outputs": [],
   "source": [
    "import pandas as pd"
   ]
  },
  {
   "cell_type": "code",
   "execution_count": 6,
   "id": "ba00c34e",
   "metadata": {},
   "outputs": [],
   "source": [
    "import numpy as np"
   ]
  },
  {
   "cell_type": "code",
   "execution_count": 7,
   "id": "6290f357",
   "metadata": {},
   "outputs": [],
   "source": [
    "headers = {'Accept-Language':'en-US,en;q=0.5'}"
   ]
  },
  {
   "cell_type": "code",
   "execution_count": 8,
   "id": "eff7ded8",
   "metadata": {},
   "outputs": [],
   "source": [
    "url = 'https://coinmarketcap.com/?page='"
   ]
  },
  {
   "cell_type": "code",
   "execution_count": 9,
   "id": "6b97b40d",
   "metadata": {},
   "outputs": [],
   "source": [
    "pages = np.arange(1,77)"
   ]
  },
  {
   "cell_type": "code",
   "execution_count": 28,
   "id": "074286cd",
   "metadata": {},
   "outputs": [],
   "source": [
    "y= []\n",
    "with open('latest_crypto_data_22_11_2021.csv','w',encoding='utf8', newline='') as f:\n",
    "    theWriter = writer(f)\n",
    "    for page in range(0,1):\n",
    "            fullUrl = url + str(page)\n",
    "            urlRequest = requests.get(fullUrl)\n",
    "            soup = BeautifulSoup(urlRequest.content,'html.parser')\n",
    "            \n",
    "            headings = soup.find_all('p',class_='iKUzJY')\n",
    "            for heading in headings:\n",
    "                x = heading.text.replace('\\n','')\n",
    "                y.append(x)\n",
    "            theWriter.writerow(y)"
   ]
  },
  {
   "cell_type": "code",
   "execution_count": null,
   "id": "47536847",
   "metadata": {},
   "outputs": [],
   "source": [
    "with open('latest_crypto_data_22_11_2021.csv','a',encoding='utf8', newline='') as f:"
   ]
  }
 ],
 "metadata": {
  "kernelspec": {
   "display_name": "Python 3",
   "language": "python",
   "name": "python3"
  },
  "language_info": {
   "codemirror_mode": {
    "name": "ipython",
    "version": 3
   },
   "file_extension": ".py",
   "mimetype": "text/x-python",
   "name": "python",
   "nbconvert_exporter": "python",
   "pygments_lexer": "ipython3",
   "version": "3.8.8"
  }
 },
 "nbformat": 4,
 "nbformat_minor": 5
}
