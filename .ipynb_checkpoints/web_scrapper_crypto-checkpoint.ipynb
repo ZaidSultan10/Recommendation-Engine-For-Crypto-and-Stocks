{
 "cells": [
  {
   "cell_type": "code",
   "execution_count": 1,
   "id": "b80a7788",
   "metadata": {},
   "outputs": [],
   "source": [
    "#WEB SCRAPPER FOR CRYPTO DATA"
   ]
  },
  {
   "cell_type": "code",
   "execution_count": 2,
   "id": "abe0d018",
   "metadata": {},
   "outputs": [],
   "source": [
    "from bs4 import BeautifulSoup"
   ]
  },
  {
   "cell_type": "code",
   "execution_count": 3,
   "id": "34563fb2",
   "metadata": {},
   "outputs": [],
   "source": [
    "import requests"
   ]
  },
  {
   "cell_type": "code",
   "execution_count": 4,
   "id": "cf1dc95b",
   "metadata": {},
   "outputs": [],
   "source": [
    "from csv import writer"
   ]
  },
  {
   "cell_type": "code",
   "execution_count": 5,
   "id": "be335235",
   "metadata": {},
   "outputs": [],
   "source": [
    "import pandas as pd"
   ]
  },
  {
   "cell_type": "code",
   "execution_count": 6,
   "id": "55de2ad4",
   "metadata": {},
   "outputs": [],
   "source": [
    "import numpy as np"
   ]
  },
  {
   "cell_type": "code",
   "execution_count": 7,
   "id": "910b6ae3",
   "metadata": {},
   "outputs": [],
   "source": [
    "headers = {'Accept-Language':'en-US,en;q=0.5'}"
   ]
  },
  {
   "cell_type": "code",
   "execution_count": 8,
   "id": "82e8a1c3",
   "metadata": {},
   "outputs": [],
   "source": [
    "url = 'https://coinmarketcap.com/?page='"
   ]
  },
  {
   "cell_type": "code",
   "execution_count": null,
   "id": "9de24df6",
   "metadata": {},
   "outputs": [],
   "source": []
  }
 ],
 "metadata": {
  "kernelspec": {
   "display_name": "Python 3",
   "language": "python",
   "name": "python3"
  },
  "language_info": {
   "codemirror_mode": {
    "name": "ipython",
    "version": 3
   },
   "file_extension": ".py",
   "mimetype": "text/x-python",
   "name": "python",
   "nbconvert_exporter": "python",
   "pygments_lexer": "ipython3",
   "version": "3.8.8"
  }
 },
 "nbformat": 4,
 "nbformat_minor": 5
}
